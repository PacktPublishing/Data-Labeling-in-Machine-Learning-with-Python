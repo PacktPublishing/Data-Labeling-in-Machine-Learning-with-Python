{
 "cells": [
  {
   "cell_type": "markdown",
   "metadata": {},
   "source": [
    "Entity extraction"
   ]
  },
  {
   "cell_type": "code",
   "execution_count": null,
   "metadata": {},
   "outputs": [],
   "source": [
    "\n",
    "response = openai.Completion.create(\n",
    "  engine=\"gpt3.5 deployment name\",\n",
    "  prompt = \"Identify the individual's name, organization, geographical location, and contact number in the following text.\\n\\nHello. I'm Sarah Johnson, and I'm reaching out on behalf of XYZ Tech Solutions based in Austin, Texas. Our team believes that our innovative products could greatly benefit your business. Please feel free to contact me at (555) 123-4567 at your convenience, and we can discuss how our solutions align with your needs.\",\n",
    "  temperature=0.2,\n",
    "  max_tokens=150,\n",
    "  top_p=1,\n",
    "  frequency_penalty=0,\n",
    "  presence_penalty=0,\n",
    "  stop=None)\n",
    " \n",
    "print(response['choices'])  "
   ]
  },
  {
   "cell_type": "markdown",
   "metadata": {},
   "source": [
    "output:\n",
    "\n",
    "[<OpenAIObject at 0x215d2c40770> JSON: {\n",
    "  \"text\": \" Thank you for your time, and I look forward to hearing from you soon. \\n\\nName: Sarah Johnson\\nOrganization: XYZ Tech Solutions\\nGeographical location: Austin, Texas\\nContact number: (555) 123-4567\",\n",
    "  \"index\": 0,\n",
    "  \"finish_reason\": \"stop\",\n",
    "  \"logprobs\": null,\n",
    "  \"content_filter_results\": {\n",
    "    \"hate\": {\n",
    "      \"filtered\": false,\n",
    "      \"severity\": \"safe\"\n",
    "    },\n",
    "    \"self_harm\": {\n",
    "      \"filtered\": false,\n",
    "      \"severity\": \"safe\"\n",
    "    },\n",
    "    \"sexual\": {\n",
    "      \"filtered\": false,\n",
    "      \"severity\": \"safe\"\n",
    "    },\n",
    "    \"violence\": {\n",
    "      \"filtered\": false,\n",
    "      \"severity\": \"safe\"\n",
    "    }\n",
    "  }\n",
    "}]"
   ]
  },
  {
   "cell_type": "code",
   "execution_count": null,
   "metadata": {},
   "outputs": [],
   "source": [
    "\n",
    "\n",
    "import json\n",
    "# Parse JSON\n",
    "json_data = response['choices']\n",
    "\n",
    "# Extract information\n",
    "\n",
    "# Extracting information from the JSON object\n",
    "for entry in json_data:\n",
    "    text = entry.get(\"text\", \"\")\n",
    "\n",
    "    # Extracting information using string manipulation or regular expressions\n",
    "    name = text.split(\"Name:\")[1].split(\"\\n\")[0].strip()\n",
    "    organization = text.split(\"Organization:\")[1].split(\"\\n\")[0].strip()\n",
    "    location = text.split(\"Geographical location:\")[1].split(\"\\n\")[0].strip()\n",
    "    contact_number = text.split(\"Contact number:\")[1].split(\"\\n\")[0].strip()\n",
    "\n",
    "    # Print the extracted information\n",
    "    print(\"Name:\", name)\n",
    "    print(\"Organization:\", organization)\n",
    "    print(\"Location:\", location)\n",
    "    print(\"Contact Number:\", contact_number)"
   ]
  },
  {
   "cell_type": "markdown",
   "metadata": {},
   "source": [
    "output:\n",
    "Name: Sarah Johnson Organization: XYZ Tech Solutions Location: Austin, Texas Contact Number: (555) 123-4567"
   ]
  }
 ],
 "metadata": {
  "language_info": {
   "name": "python"
  }
 },
 "nbformat": 4,
 "nbformat_minor": 2
}
