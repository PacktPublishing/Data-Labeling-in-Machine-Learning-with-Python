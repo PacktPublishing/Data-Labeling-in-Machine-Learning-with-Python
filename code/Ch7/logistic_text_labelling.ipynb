{
 "cells": [
  {
   "cell_type": "markdown",
   "metadata": {},
   "source": [
    "Labelling text data using Logistic regression"
   ]
  },
  {
   "cell_type": "code",
   "execution_count": 38,
   "metadata": {},
   "outputs": [
    {
     "name": "stderr",
     "output_type": "stream",
     "text": [
      "[nltk_data] Downloading package movie_reviews to\n",
      "[nltk_data]     /Users/sudachk/nltk_data...\n",
      "[nltk_data]   Unzipping corpora/movie_reviews.zip.\n",
      "[nltk_data] Downloading package wordnet to /Users/sudachk/nltk_data...\n",
      "[nltk_data]   Package wordnet is already up-to-date!\n",
      "[nltk_data] Downloading package omw-1.4 to /Users/sudachk/nltk_data...\n",
      "[nltk_data]   Package omw-1.4 is already up-to-date!\n",
      "[nltk_data] Downloading package punkt to /Users/sudachk/nltk_data...\n",
      "[nltk_data]   Package punkt is already up-to-date!\n"
     ]
    },
    {
     "name": "stdout",
     "output_type": "stream",
     "text": [
      "Accuracy: 81.75%\n"
     ]
    }
   ],
   "source": [
    "from nltk.corpus import stopwords\n",
    "from nltk.stem import WordNetLemmatizer\n",
    "from sklearn.feature_extraction.text import TfidfVectorizer\n",
    "from sklearn.model_selection import train_test_split\n",
    "from sklearn.linear_model import LogisticRegression\n",
    "import nltk\n",
    "from nltk.corpus import movie_reviews\n",
    "from nltk.sentiment import SentimentAnalyzer\n",
    "from nltk.classify import NaiveBayesClassifier\n",
    "\n",
    "# Download the movie reviews dataset\n",
    "# Download the movie reviews dataset and necessary NLTK data\n",
    "nltk.download('movie_reviews')\n",
    "nltk.download('wordnet')\n",
    "nltk.download('omw-1.4')\n",
    "nltk.download('punkt')  # Add this line\n",
    "\n",
    "# Create a sentiment analyzer\n",
    "sentiment_analyzer = SentimentAnalyzer()\n",
    "\n",
    "# Get the IDs of the movie reviews\n",
    "ids = movie_reviews.fileids()\n",
    "\n",
    "# Preprocessing\n",
    "lemmatizer = WordNetLemmatizer()\n",
    "stop_words = set(stopwords.words('english'))\n",
    "from nltk.tokenize import word_tokenize\n",
    "\n",
    "def preprocess(document):\n",
    "    words = word_tokenize(document)\n",
    "    words = [lemmatizer.lemmatize(word) for word in words if word not in stop_words]\n",
    "    return ' '.join(words)\n",
    "\n",
    "# Feature selection\n",
    "vectorizer = TfidfVectorizer(preprocessor=preprocess, ngram_range=(1, 2))\n",
    "\n",
    "# Create the feature matrix\n",
    "X = vectorizer.fit_transform([movie_reviews.raw(fileid) for fileid in ids])\n",
    "\n",
    "# Create the target vector\n",
    "y = [movie_reviews.categories([f])[0] for f in ids]\n",
    "\n",
    "# Split the data into training and test sets\n",
    "X_train, X_test, y_train, y_test = train_test_split(X, y, test_size=0.2, random_state=42)\n",
    "\n",
    "# Model selection and training\n",
    "model = LogisticRegression()\n",
    "model.fit(X_train, y_train)\n",
    "\n",
    "# Evaluation\n",
    "accuracy = model.score(X_test, y_test)\n",
    "print(f\"Accuracy: {accuracy:.2%}\")"
   ]
  },
  {
   "cell_type": "code",
   "execution_count": 42,
   "metadata": {},
   "outputs": [
    {
     "name": "stdout",
     "output_type": "stream",
     "text": [
      "Sentence: I loved the movie and it was amazing. Best movie I have seen this year.\n",
      "Sentiment: pos\n",
      "\n",
      "Sentence: The movie was terrible. The plot was non-existent and the acting was subpar.\n",
      "Sentiment: neg\n",
      "\n",
      "Sentence: I have mixed feelings about the movie. Some parts were good, but some were not.\n",
      "Sentiment: neg\n",
      "\n"
     ]
    }
   ],
   "source": [
    "# Test the classifier with custom sentences\n",
    "custom_sentences = [\n",
    "    \"I loved the movie and it was amazing. Best movie I have seen this year.\",  # Positive sentiment\n",
    "    \"The movie was terrible. The plot was non-existent and the acting was subpar.\",  # Negative sentiment\n",
    "    \"I have mixed feelings about the movie. Some parts were good, but some were not.\",  # Mixed sentiment\n",
    "]\n",
    "\n",
    "for sentence in custom_sentences:\n",
    "    # Preprocess the sentence\n",
    "    preprocessed_sentence = preprocess(sentence)\n",
    "    \n",
    "    # Transform the sentence into features\n",
    "    features = vectorizer.transform([preprocessed_sentence])\n",
    "    \n",
    "    # Predict the sentiment\n",
    "    sentiment = model.predict(features)\n",
    "    \n",
    "    print(f\"Sentence: {sentence}\\nSentiment: {sentiment[0]}\\n\")"
   ]
  }
 ],
 "metadata": {
  "kernelspec": {
   "display_name": "Python 3",
   "language": "python",
   "name": "python3"
  },
  "language_info": {
   "codemirror_mode": {
    "name": "ipython",
    "version": 3
   },
   "file_extension": ".py",
   "mimetype": "text/x-python",
   "name": "python",
   "nbconvert_exporter": "python",
   "pygments_lexer": "ipython3",
   "version": "3.9.6"
  }
 },
 "nbformat": 4,
 "nbformat_minor": 2
}
