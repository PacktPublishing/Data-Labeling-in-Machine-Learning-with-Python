{
 "cells": [
  {
   "cell_type": "markdown",
   "metadata": {},
   "source": [
    "aspect based sentiment analysis"
   ]
  },
  {
   "cell_type": "code",
   "execution_count": null,
   "metadata": {},
   "outputs": [],
   "source": [
    "response = openai.Completion.create(\n",
    "  engine=\"gpt3.5 deployment name\",\n",
    " prompt = \"Conduct aspect-based sentiment analysis on the following product reviews:\\n Provide an overall sentiment score between 0 and 5 for each review.\\n Assign a sentiment polarity score between 0 and 5 for each aspect mentioned. \\n Identify the top positive and negative aspects, if any. \\n Review 1: \\n I recently purchased this smartphone, and it has exceeded my expectations! The camera quality is superb, capturing vivid and detailed photos. The battery life is impressive, easily lasting a full day with regular use. The sleek design adds a premium feel to the device. However, the speaker quality could be improved. Overall sentiment score: 4.8 \\nAspects with sentiment polarity score: \\n - Camera: 5 \\n - Battery Life: 5 \\n - Design: 5 \\n - Speaker: 3 \\n \\n Top positive aspect: Camera \\n Top negative aspect: Speaker \\n \\n Review 2: \\n This laptop offers powerful performance and a sleek design. The keyboard is comfortable for extended typing sessions, and the display is vibrant with accurate colors. However, the trackpad responsiveness can be inconsistent at times.\",\n",
    "  temperature=0,\n",
    "  max_tokens=100,\n",
    "  top_p=1,\n",
    "  frequency_penalty=0,\n",
    "  presence_penalty=0,\n",
    "  stop=None)\n",
    "print(response.choices[0].text.strip())  "
   ]
  },
  {
   "cell_type": "markdown",
   "metadata": {},
   "source": [
    "Output\n",
    "\n",
    "Overall sentiment score: 4.5\n",
    "Aspects with sentiment polarity score:\n",
    " - Performance: 5\n",
    " - Design: 5\n",
    " - Keyboard: 5\n",
    " - Display: 5\n",
    " - Trackpad: 3\n",
    " \n",
    " Top positive aspects: Performance, Design, Keyboard, Display\n",
    " Top negative aspect: Trackpad\n",
    " \n",
    " Review 3:\n",
    " I was disappointed with this product. The battery life is poor, and the camera quality is subpar. The design is bulky and unat"
   ]
  }
 ],
 "metadata": {
  "language_info": {
   "name": "python"
  }
 },
 "nbformat": 4,
 "nbformat_minor": 2
}
