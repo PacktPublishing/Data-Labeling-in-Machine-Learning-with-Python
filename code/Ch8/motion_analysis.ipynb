{
 "cells": [
  {
   "cell_type": "markdown",
   "metadata": {},
   "source": [
    "#Motion analysis using Optical flow"
   ]
  },
  {
   "cell_type": "code",
   "execution_count": 17,
   "metadata": {},
   "outputs": [],
   "source": [
    "import cv2\n",
    "import numpy as np\n",
    "# Read a video file\n",
    "\n",
    "cap = cv2.VideoCapture('<your_path>/datasets/Ch8/data/CricketBowling.mp4')\n",
    "\n",
    "# Initialize Lucas-Kanade optical flow\n",
    "lk_params = dict(winSize=(15, 15), maxLevel=2, criteria=(cv2.TERM_CRITERIA_EPS | cv2.TERM_CRITERIA_COUNT, 10, 0.03))\n",
    "\n",
    "ret, frame1 = cap.read()\n",
    "prvs = cv2.cvtColor(frame1, cv2.COLOR_BGR2GRAY)\n",
    "prvs_points = cv2.goodFeaturesToTrack(prvs, maxCorners=100, qualityLevel=0.3, minDistance=7)\n",
    "\n",
    "\n",
    "while True:\n",
    "    ret, frame2 = cap.read()\n",
    "    if not ret:\n",
    "        break\n",
    "\n",
    "    next_frame = cv2.cvtColor(frame2, cv2.COLOR_BGR2GRAY)\n",
    "    #print(next_frame.shape)\n",
    "    # Calculate optical flow\n",
    "    next_points, status, err = cv2.calcOpticalFlowPyrLK(prvs, next_frame, prvs_points, None, **lk_params)\n",
    "\n",
    "    # Draw motion vectors on the frame\n",
    "    mask = np.zeros_like(frame2)\n",
    "    for i, (new, old) in enumerate(zip(next_points, prvs_points)):\n",
    "        a, b = new.ravel().astype(int)\n",
    "        c, d = old.ravel().astype(int)\n",
    "        mask = cv2.line(mask, (a, b), (c, d), (0, 255, 0), 2)\n",
    "        frame2 = cv2.circle(frame2, (a, b), 5, (0, 0, 255), -1)\n",
    "\n",
    "    result = cv2.add(frame2, mask)\n",
    "    cv2.imshow('Motion Analysis', result)\n",
    "\n",
    "    # Break the loop on 'Esc' key\n",
    "    if cv2.waitKey(30) & 0xFF == 27:\n",
    "        break\n",
    "\n",
    "    prvs = next_frame\n",
    "    prvs_points = next_points\n",
    "\n",
    "cap.release()\n",
    "\n",
    "cv2.destroyAllWindows()\n",
    "\n"
   ]
  },
  {
   "cell_type": "code",
   "execution_count": null,
   "metadata": {},
   "outputs": [],
   "source": [
    "#Object tracking in video"
   ]
  },
  {
   "cell_type": "code",
   "execution_count": 1,
   "metadata": {},
   "outputs": [
    {
     "name": "stdout",
     "output_type": "stream",
     "text": [
      "Select a ROI and then press SPACE or ENTER button!\n",
      "Cancel the selection process by pressing c button!\n"
     ]
    }
   ],
   "source": [
    "import cv2\n",
    "\n",
    "# Create a MOSSE tracker\n",
    "\n",
    "tracker=cv2.legacy.TrackerBoosting_create()\n",
    "# tracker = cv2.TrackerKCF_create()\n",
    "# tracker = cv2.TrackerMIL_create()\n",
    "# tracker = cv2.TrackerTLD_create()    \n",
    "# tracker = cv2.TrackerMedianFlow_create()\n",
    "# tracker = cv2.TrackerGOTURN_create()\n",
    "# tracker = cv2.TrackerMOSSE_create()    \n",
    "# tracker = cv2.TrackerCSRT_create()\n",
    "\n",
    "# Read a video file\n",
    "cap = cv2.VideoCapture('<your_path>/datasets/Ch8/data/CricketBowling.mp4')\n",
    "\n",
    "# Read the first frame\n",
    "ret, frame = cap.read()\n",
    "bbox = cv2.selectROI('Select Object to Track', frame, False)\n",
    "tracker.init(frame, bbox)\n",
    "\n",
    "while True:\n",
    "    ret, frame = cap.read()\n",
    "    if not ret:\n",
    "        break\n",
    "\n",
    "    # Update the tracker\n",
    "    success, bbox = tracker.update(frame)\n",
    "\n",
    "    # Draw bounding box\n",
    "    if success:\n",
    "        p1 = (int(bbox[0]), int(bbox[1]))\n",
    "        p2 = (int(bbox[0] + bbox[2]), int(bbox[1] + bbox[3]))\n",
    "        cv2.rectangle(frame, p1, p2, (0, 255, 0), 2)\n",
    "\n",
    "    cv2.imshow('Object Tracking', frame)\n",
    "\n",
    "    # Break the loop on 'Esc' key\n",
    "    if cv2.waitKey(30) & 0xFF == 27:\n",
    "        break\n",
    "\n",
    "cap.release()\n",
    "cv2.destroyAllWindows()\n"
   ]
  },
  {
   "cell_type": "code",
   "execution_count": 4,
   "metadata": {},
   "outputs": [
    {
     "name": "stdout",
     "output_type": "stream",
     "text": [
      "\u001b[33mWARNING: Skipping opencv-contrib-python as it is not installed.\u001b[0m\n",
      "Note: you may need to restart the kernel to use updated packages.\n"
     ]
    }
   ],
   "source": [
    "%pip uninstall opencv_contrib_python\n"
   ]
  },
  {
   "cell_type": "code",
   "execution_count": 1,
   "metadata": {},
   "outputs": [
    {
     "name": "stdout",
     "output_type": "stream",
     "text": [
      "\u001b[33mWARNING: Skipping opencv-python-headless as it is not installed.\u001b[0m\n",
      "Note: you may need to restart the kernel to use updated packages.\n"
     ]
    }
   ],
   "source": [
    "%pip uninstall opencv-python-headless\n"
   ]
  },
  {
   "cell_type": "code",
   "execution_count": 2,
   "metadata": {},
   "outputs": [
    {
     "name": "stdout",
     "output_type": "stream",
     "text": [
      "Defaulting to user installation because normal site-packages is not writeable\n",
      "Collecting opencv-contrib-python-headless\n",
      "  Downloading opencv_contrib_python_headless-4.8.1.78-cp37-abi3-macosx_11_0_arm64.whl (41.4 MB)\n",
      "\u001b[K     |████████████████████████████████| 41.4 MB 360 kB/s eta 0:00:01\n",
      "\u001b[?25hRequirement already satisfied: numpy>=1.17.0 in /Users/sudachk/Library/Python/3.9/lib/python/site-packages (from opencv-contrib-python-headless) (1.24.3)\n",
      "Installing collected packages: opencv-contrib-python-headless\n",
      "Successfully installed opencv-contrib-python-headless-4.8.1.78\n",
      "\u001b[33mWARNING: You are using pip version 21.2.4; however, version 23.3.2 is available.\n",
      "You should consider upgrading via the '/Library/Developer/CommandLineTools/usr/bin/python3 -m pip install --upgrade pip' command.\u001b[0m\n",
      "Note: you may need to restart the kernel to use updated packages.\n"
     ]
    }
   ],
   "source": [
    "%pip install opencv-contrib-python-headless\n"
   ]
  },
  {
   "cell_type": "code",
   "execution_count": 6,
   "metadata": {},
   "outputs": [
    {
     "name": "stdout",
     "output_type": "stream",
     "text": [
      "4.8.0\n"
     ]
    }
   ],
   "source": [
    "import cv2\n",
    "print(cv2.__version__)"
   ]
  },
  {
   "cell_type": "code",
   "execution_count": null,
   "metadata": {},
   "outputs": [],
   "source": [
    "%pip install opencv-contrib-python-headless\n"
   ]
  },
  {
   "cell_type": "code",
   "execution_count": 7,
   "metadata": {},
   "outputs": [
    {
     "name": "stdout",
     "output_type": "stream",
     "text": [
      "Defaulting to user installation because normal site-packages is not writeable\n",
      "Requirement already satisfied: opencv-python in /Users/sudachk/Library/Python/3.9/lib/python/site-packages (4.8.0.76)\n",
      "Collecting opencv-python\n",
      "  Using cached opencv_python-4.8.1.78-cp37-abi3-macosx_11_0_arm64.whl (33.1 MB)\n",
      "Requirement already satisfied: numpy>=1.17.0 in /Users/sudachk/Library/Python/3.9/lib/python/site-packages (from opencv-python) (1.24.3)\n",
      "Installing collected packages: opencv-python\n",
      "  Attempting uninstall: opencv-python\n",
      "    Found existing installation: opencv-python 4.8.0.76\n",
      "    Uninstalling opencv-python-4.8.0.76:\n",
      "      Successfully uninstalled opencv-python-4.8.0.76\n",
      "Successfully installed opencv-python-4.8.1.78\n",
      "\u001b[33mWARNING: You are using pip version 21.2.4; however, version 23.3.2 is available.\n",
      "You should consider upgrading via the '/Library/Developer/CommandLineTools/usr/bin/python3 -m pip install --upgrade pip' command.\u001b[0m\n",
      "Note: you may need to restart the kernel to use updated packages.\n"
     ]
    }
   ],
   "source": [
    "%pip install --upgrade opencv-python\n"
   ]
  },
  {
   "cell_type": "code",
   "execution_count": 1,
   "metadata": {},
   "outputs": [
    {
     "name": "stdout",
     "output_type": "stream",
     "text": [
      "Defaulting to user installation because normal site-packages is not writeable\n",
      "Collecting dlib\n",
      "  Using cached dlib-19.24.2.tar.gz (11.8 MB)\n",
      "  Installing build dependencies ... \u001b[?25ldone\n",
      "\u001b[?25h  Getting requirements to build wheel ... \u001b[?25ldone\n",
      "\u001b[?25h  Preparing metadata (pyproject.toml) ... \u001b[?25ldone\n",
      "\u001b[?25hBuilding wheels for collected packages: dlib\n",
      "  Building wheel for dlib (pyproject.toml) ... \u001b[?25ldone\n",
      "\u001b[?25h  Created wheel for dlib: filename=dlib-19.24.2-cp39-cp39-macosx_13_0_universal2.whl size=3002176 sha256=47d748b77c4fa80445c227322d95f062a8305d659a8ef29f65045879563147a1\n",
      "  Stored in directory: /Users/sudachk/Library/Caches/pip/wheels/f7/ae/0e/3478eae12f6aed0e3d4880147ca855ba5d58f2e1098c73ab5f\n",
      "Successfully built dlib\n",
      "Installing collected packages: dlib\n",
      "Successfully installed dlib-19.24.2\n",
      "Note: you may need to restart the kernel to use updated packages.\n"
     ]
    }
   ],
   "source": [
    "%pip install dlib"
   ]
  },
  {
   "cell_type": "code",
   "execution_count": 5,
   "metadata": {},
   "outputs": [
    {
     "name": "stdout",
     "output_type": "stream",
     "text": [
      "Defaulting to user installation because normal site-packages is not writeable\n",
      "Requirement already satisfied: pip in /Library/Developer/CommandLineTools/Library/Frameworks/Python3.framework/Versions/3.9/lib/python3.9/site-packages (21.2.4)\n",
      "Collecting pip\n",
      "  Downloading pip-23.3.2-py3-none-any.whl (2.1 MB)\n",
      "\u001b[K     |████████████████████████████████| 2.1 MB 1.4 MB/s eta 0:00:01\n",
      "\u001b[?25hInstalling collected packages: pip\n",
      "Successfully installed pip-23.3.2\n",
      "\u001b[33mWARNING: You are using pip version 21.2.4; however, version 23.3.2 is available.\n",
      "You should consider upgrading via the '/Library/Developer/CommandLineTools/usr/bin/python3 -m pip install --upgrade pip' command.\u001b[0m\n",
      "Note: you may need to restart the kernel to use updated packages.\n"
     ]
    }
   ],
   "source": [
    "%pip install --upgrade pip\n"
   ]
  },
  {
   "cell_type": "code",
   "execution_count": 5,
   "metadata": {},
   "outputs": [
    {
     "name": "stdout",
     "output_type": "stream",
     "text": [
      "Defaulting to user installation because normal site-packages is not writeable\n",
      "Collecting deepface\n",
      "  Downloading deepface-0.0.80-py3-none-any.whl.metadata (24 kB)\n",
      "Requirement already satisfied: numpy>=1.14.0 in /Users/sudachk/Library/Python/3.9/lib/python/site-packages (from deepface) (1.24.3)\n",
      "Requirement already satisfied: pandas>=0.23.4 in /Users/sudachk/Library/Python/3.9/lib/python/site-packages (from deepface) (1.5.2)\n",
      "Collecting gdown>=3.10.1 (from deepface)\n",
      "  Downloading gdown-4.7.1-py3-none-any.whl (15 kB)\n",
      "Requirement already satisfied: tqdm>=4.30.0 in /Users/sudachk/Library/Python/3.9/lib/python/site-packages (from deepface) (4.64.1)\n",
      "Requirement already satisfied: Pillow>=5.2.0 in /Users/sudachk/Library/Python/3.9/lib/python/site-packages (from deepface) (10.1.0)\n",
      "Requirement already satisfied: opencv-python>=4.5.5.64 in /Users/sudachk/Library/Python/3.9/lib/python/site-packages (from deepface) (4.8.1.78)\n",
      "Requirement already satisfied: tensorflow>=1.9.0 in /Users/sudachk/Library/Python/3.9/lib/python/site-packages (from deepface) (2.13.0)\n",
      "Requirement already satisfied: keras>=2.2.0 in /Users/sudachk/Library/Python/3.9/lib/python/site-packages (from deepface) (2.13.1)\n",
      "Collecting Flask>=1.1.2 (from deepface)\n",
      "  Downloading flask-3.0.0-py3-none-any.whl.metadata (3.6 kB)\n",
      "Collecting mtcnn>=0.1.0 (from deepface)\n",
      "  Downloading mtcnn-0.1.1-py3-none-any.whl (2.3 MB)\n",
      "\u001b[2K     \u001b[90m━━━━━━━━━━━━━━━━━━━━━━━━━━━━━━━━━━━━━━━━\u001b[0m \u001b[32m2.3/2.3 MB\u001b[0m \u001b[31m8.0 MB/s\u001b[0m eta \u001b[36m0:00:00\u001b[0ma \u001b[36m0:00:01\u001b[0m\n",
      "\u001b[?25hCollecting retina-face>=0.0.1 (from deepface)\n",
      "  Downloading retina_face-0.0.13-py3-none-any.whl (16 kB)\n",
      "Collecting fire>=0.4.0 (from deepface)\n",
      "  Downloading fire-0.5.0.tar.gz (88 kB)\n",
      "\u001b[2K     \u001b[90m━━━━━━━━━━━━━━━━━━━━━━━━━━━━━━━━━━━━━━━━\u001b[0m \u001b[32m88.3/88.3 kB\u001b[0m \u001b[31m9.5 MB/s\u001b[0m eta \u001b[36m0:00:00\u001b[0m\n",
      "\u001b[?25h  Preparing metadata (setup.py) ... \u001b[?25ldone\n",
      "\u001b[?25hCollecting gunicorn>=20.1.0 (from deepface)\n",
      "  Downloading gunicorn-21.2.0-py3-none-any.whl.metadata (4.1 kB)\n",
      "Collecting Deprecated>=1.2.13 (from deepface)\n",
      "  Downloading Deprecated-1.2.14-py2.py3-none-any.whl.metadata (5.4 kB)\n",
      "Requirement already satisfied: wrapt<2,>=1.10 in /Users/sudachk/Library/Python/3.9/lib/python/site-packages (from Deprecated>=1.2.13->deepface) (1.15.0)\n",
      "Requirement already satisfied: six in /Library/Developer/CommandLineTools/Library/Frameworks/Python3.framework/Versions/3.9/lib/python3.9/site-packages (from fire>=0.4.0->deepface) (1.15.0)\n",
      "Requirement already satisfied: termcolor in /Users/sudachk/Library/Python/3.9/lib/python/site-packages (from fire>=0.4.0->deepface) (2.3.0)\n",
      "Collecting Werkzeug>=3.0.0 (from Flask>=1.1.2->deepface)\n",
      "  Downloading werkzeug-3.0.1-py3-none-any.whl.metadata (4.1 kB)\n",
      "Requirement already satisfied: Jinja2>=3.1.2 in /Users/sudachk/Library/Python/3.9/lib/python/site-packages (from Flask>=1.1.2->deepface) (3.1.2)\n",
      "Collecting itsdangerous>=2.1.2 (from Flask>=1.1.2->deepface)\n",
      "  Downloading itsdangerous-2.1.2-py3-none-any.whl (15 kB)\n",
      "Requirement already satisfied: click>=8.1.3 in /Users/sudachk/Library/Python/3.9/lib/python/site-packages (from Flask>=1.1.2->deepface) (8.1.7)\n",
      "Collecting blinker>=1.6.2 (from Flask>=1.1.2->deepface)\n",
      "  Downloading blinker-1.7.0-py3-none-any.whl.metadata (1.9 kB)\n",
      "Requirement already satisfied: importlib-metadata>=3.6.0 in /Users/sudachk/Library/Python/3.9/lib/python/site-packages (from Flask>=1.1.2->deepface) (5.1.0)\n",
      "Requirement already satisfied: filelock in /Users/sudachk/Library/Python/3.9/lib/python/site-packages (from gdown>=3.10.1->deepface) (3.12.4)\n",
      "Requirement already satisfied: requests[socks] in /Users/sudachk/Library/Python/3.9/lib/python/site-packages (from gdown>=3.10.1->deepface) (2.31.0)\n",
      "Requirement already satisfied: beautifulsoup4 in /Users/sudachk/Library/Python/3.9/lib/python/site-packages (from gdown>=3.10.1->deepface) (4.11.1)\n",
      "Requirement already satisfied: packaging in /Users/sudachk/Library/Python/3.9/lib/python/site-packages (from gunicorn>=20.1.0->deepface) (21.3)\n",
      "Requirement already satisfied: python-dateutil>=2.8.1 in /Users/sudachk/Library/Python/3.9/lib/python/site-packages (from pandas>=0.23.4->deepface) (2.8.2)\n",
      "Requirement already satisfied: pytz>=2020.1 in /Users/sudachk/Library/Python/3.9/lib/python/site-packages (from pandas>=0.23.4->deepface) (2022.6)\n",
      "Requirement already satisfied: tensorflow-macos==2.13.0 in /Users/sudachk/Library/Python/3.9/lib/python/site-packages (from tensorflow>=1.9.0->deepface) (2.13.0)\n",
      "Requirement already satisfied: absl-py>=1.0.0 in /Users/sudachk/Library/Python/3.9/lib/python/site-packages (from tensorflow-macos==2.13.0->tensorflow>=1.9.0->deepface) (1.3.0)\n",
      "Requirement already satisfied: astunparse>=1.6.0 in /Users/sudachk/Library/Python/3.9/lib/python/site-packages (from tensorflow-macos==2.13.0->tensorflow>=1.9.0->deepface) (1.6.3)\n",
      "Requirement already satisfied: flatbuffers>=23.1.21 in /Users/sudachk/Library/Python/3.9/lib/python/site-packages (from tensorflow-macos==2.13.0->tensorflow>=1.9.0->deepface) (23.5.26)\n",
      "Requirement already satisfied: gast<=0.4.0,>=0.2.1 in /Users/sudachk/Library/Python/3.9/lib/python/site-packages (from tensorflow-macos==2.13.0->tensorflow>=1.9.0->deepface) (0.4.0)\n",
      "Requirement already satisfied: google-pasta>=0.1.1 in /Users/sudachk/Library/Python/3.9/lib/python/site-packages (from tensorflow-macos==2.13.0->tensorflow>=1.9.0->deepface) (0.2.0)\n",
      "Requirement already satisfied: h5py>=2.9.0 in /Users/sudachk/Library/Python/3.9/lib/python/site-packages (from tensorflow-macos==2.13.0->tensorflow>=1.9.0->deepface) (3.9.0)\n",
      "Requirement already satisfied: libclang>=13.0.0 in /Users/sudachk/Library/Python/3.9/lib/python/site-packages (from tensorflow-macos==2.13.0->tensorflow>=1.9.0->deepface) (16.0.6)\n",
      "Requirement already satisfied: opt-einsum>=2.3.2 in /Users/sudachk/Library/Python/3.9/lib/python/site-packages (from tensorflow-macos==2.13.0->tensorflow>=1.9.0->deepface) (3.3.0)\n",
      "Requirement already satisfied: protobuf!=4.21.0,!=4.21.1,!=4.21.2,!=4.21.3,!=4.21.4,!=4.21.5,<5.0.0dev,>=3.20.3 in /Users/sudachk/Library/Python/3.9/lib/python/site-packages (from tensorflow-macos==2.13.0->tensorflow>=1.9.0->deepface) (3.20.3)\n",
      "Requirement already satisfied: setuptools in /Library/Developer/CommandLineTools/Library/Frameworks/Python3.framework/Versions/3.9/lib/python3.9/site-packages (from tensorflow-macos==2.13.0->tensorflow>=1.9.0->deepface) (58.0.4)\n",
      "Requirement already satisfied: typing-extensions<4.6.0,>=3.6.6 in /Users/sudachk/Library/Python/3.9/lib/python/site-packages (from tensorflow-macos==2.13.0->tensorflow>=1.9.0->deepface) (4.5.0)\n",
      "Requirement already satisfied: grpcio<2.0,>=1.24.3 in /Users/sudachk/Library/Python/3.9/lib/python/site-packages (from tensorflow-macos==2.13.0->tensorflow>=1.9.0->deepface) (1.51.1)\n",
      "Requirement already satisfied: tensorboard<2.14,>=2.13 in /Users/sudachk/Library/Python/3.9/lib/python/site-packages (from tensorflow-macos==2.13.0->tensorflow>=1.9.0->deepface) (2.13.0)\n",
      "Requirement already satisfied: tensorflow-estimator<2.14,>=2.13.0 in /Users/sudachk/Library/Python/3.9/lib/python/site-packages (from tensorflow-macos==2.13.0->tensorflow>=1.9.0->deepface) (2.13.0)\n",
      "Requirement already satisfied: zipp>=0.5 in /Users/sudachk/Library/Python/3.9/lib/python/site-packages (from importlib-metadata>=3.6.0->Flask>=1.1.2->deepface) (3.11.0)\n",
      "Requirement already satisfied: MarkupSafe>=2.0 in /Users/sudachk/Library/Python/3.9/lib/python/site-packages (from Jinja2>=3.1.2->Flask>=1.1.2->deepface) (2.1.1)\n",
      "Requirement already satisfied: soupsieve>1.2 in /Users/sudachk/Library/Python/3.9/lib/python/site-packages (from beautifulsoup4->gdown>=3.10.1->deepface) (2.3.2.post1)\n",
      "Requirement already satisfied: pyparsing!=3.0.5,>=2.0.2 in /Users/sudachk/Library/Python/3.9/lib/python/site-packages (from packaging->gunicorn>=20.1.0->deepface) (3.0.9)\n",
      "Requirement already satisfied: charset-normalizer<4,>=2 in /Users/sudachk/Library/Python/3.9/lib/python/site-packages (from requests[socks]->gdown>=3.10.1->deepface) (2.1.1)\n",
      "Requirement already satisfied: idna<4,>=2.5 in /Users/sudachk/Library/Python/3.9/lib/python/site-packages (from requests[socks]->gdown>=3.10.1->deepface) (3.4)\n",
      "Requirement already satisfied: urllib3<3,>=1.21.1 in /Users/sudachk/Library/Python/3.9/lib/python/site-packages (from requests[socks]->gdown>=3.10.1->deepface) (1.26.17)\n",
      "Requirement already satisfied: certifi>=2017.4.17 in /Users/sudachk/Library/Python/3.9/lib/python/site-packages (from requests[socks]->gdown>=3.10.1->deepface) (2022.9.24)\n",
      "Collecting PySocks!=1.5.7,>=1.5.6 (from requests[socks]->gdown>=3.10.1->deepface)\n",
      "  Downloading PySocks-1.7.1-py3-none-any.whl (16 kB)\n",
      "Requirement already satisfied: wheel<1.0,>=0.23.0 in /Users/sudachk/Library/Python/3.9/lib/python/site-packages (from astunparse>=1.6.0->tensorflow-macos==2.13.0->tensorflow>=1.9.0->deepface) (0.40.0)\n",
      "Requirement already satisfied: google-auth<3,>=1.6.3 in /Users/sudachk/Library/Python/3.9/lib/python/site-packages (from tensorboard<2.14,>=2.13->tensorflow-macos==2.13.0->tensorflow>=1.9.0->deepface) (2.24.0)\n",
      "Requirement already satisfied: google-auth-oauthlib<1.1,>=0.5 in /Users/sudachk/Library/Python/3.9/lib/python/site-packages (from tensorboard<2.14,>=2.13->tensorflow-macos==2.13.0->tensorflow>=1.9.0->deepface) (1.0.0)\n",
      "Requirement already satisfied: markdown>=2.6.8 in /Users/sudachk/Library/Python/3.9/lib/python/site-packages (from tensorboard<2.14,>=2.13->tensorflow-macos==2.13.0->tensorflow>=1.9.0->deepface) (3.4.1)\n",
      "Requirement already satisfied: tensorboard-data-server<0.8.0,>=0.7.0 in /Users/sudachk/Library/Python/3.9/lib/python/site-packages (from tensorboard<2.14,>=2.13->tensorflow-macos==2.13.0->tensorflow>=1.9.0->deepface) (0.7.1)\n",
      "Requirement already satisfied: cachetools<6.0,>=2.0.0 in /Users/sudachk/Library/Python/3.9/lib/python/site-packages (from google-auth<3,>=1.6.3->tensorboard<2.14,>=2.13->tensorflow-macos==2.13.0->tensorflow>=1.9.0->deepface) (5.2.0)\n",
      "Requirement already satisfied: pyasn1-modules>=0.2.1 in /Users/sudachk/Library/Python/3.9/lib/python/site-packages (from google-auth<3,>=1.6.3->tensorboard<2.14,>=2.13->tensorflow-macos==2.13.0->tensorflow>=1.9.0->deepface) (0.2.8)\n",
      "Requirement already satisfied: rsa<5,>=3.1.4 in /Users/sudachk/Library/Python/3.9/lib/python/site-packages (from google-auth<3,>=1.6.3->tensorboard<2.14,>=2.13->tensorflow-macos==2.13.0->tensorflow>=1.9.0->deepface) (4.9)\n",
      "Requirement already satisfied: requests-oauthlib>=0.7.0 in /Users/sudachk/Library/Python/3.9/lib/python/site-packages (from google-auth-oauthlib<1.1,>=0.5->tensorboard<2.14,>=2.13->tensorflow-macos==2.13.0->tensorflow>=1.9.0->deepface) (1.3.1)\n",
      "Requirement already satisfied: pyasn1<0.5.0,>=0.4.6 in /Users/sudachk/Library/Python/3.9/lib/python/site-packages (from pyasn1-modules>=0.2.1->google-auth<3,>=1.6.3->tensorboard<2.14,>=2.13->tensorflow-macos==2.13.0->tensorflow>=1.9.0->deepface) (0.4.8)\n",
      "Requirement already satisfied: oauthlib>=3.0.0 in /Users/sudachk/Library/Python/3.9/lib/python/site-packages (from requests-oauthlib>=0.7.0->google-auth-oauthlib<1.1,>=0.5->tensorboard<2.14,>=2.13->tensorflow-macos==2.13.0->tensorflow>=1.9.0->deepface) (3.2.2)\n",
      "Downloading deepface-0.0.80-py3-none-any.whl (55 kB)\n",
      "\u001b[2K   \u001b[90m━━━━━━━━━━━━━━━━━━━━━━━━━━━━━━━━━━━━━━━━\u001b[0m \u001b[32m55.8/55.8 kB\u001b[0m \u001b[31m5.7 MB/s\u001b[0m eta \u001b[36m0:00:00\u001b[0m\n",
      "\u001b[?25hDownloading Deprecated-1.2.14-py2.py3-none-any.whl (9.6 kB)\n",
      "Downloading flask-3.0.0-py3-none-any.whl (99 kB)\n",
      "\u001b[2K   \u001b[90m━━━━━━━━━━━━━━━━━━━━━━━━━━━━━━━━━━━━━━━━\u001b[0m \u001b[32m99.7/99.7 kB\u001b[0m \u001b[31m10.0 MB/s\u001b[0m eta \u001b[36m0:00:00\u001b[0m\n",
      "\u001b[?25hDownloading gunicorn-21.2.0-py3-none-any.whl (80 kB)\n",
      "\u001b[2K   \u001b[90m━━━━━━━━━━━━━━━━━━━━━━━━━━━━━━━━━━━━━━━━\u001b[0m \u001b[32m80.2/80.2 kB\u001b[0m \u001b[31m7.0 MB/s\u001b[0m eta \u001b[36m0:00:00\u001b[0m\n",
      "\u001b[?25hDownloading blinker-1.7.0-py3-none-any.whl (13 kB)\n",
      "Downloading werkzeug-3.0.1-py3-none-any.whl (226 kB)\n",
      "\u001b[2K   \u001b[90m━━━━━━━━━━━━━━━━━━━━━━━━━━━━━━━━━━━━━━━━\u001b[0m \u001b[32m226.7/226.7 kB\u001b[0m \u001b[31m14.5 MB/s\u001b[0m eta \u001b[36m0:00:00\u001b[0m\n",
      "\u001b[?25hBuilding wheels for collected packages: fire\n",
      "  Building wheel for fire (setup.py) ... \u001b[?25ldone\n",
      "\u001b[?25h  Created wheel for fire: filename=fire-0.5.0-py2.py3-none-any.whl size=116949 sha256=5c437bfed8dba41294fd0c3f39e69e7f4e7bc6496ad57f57a23f1c0205817892\n",
      "  Stored in directory: /Users/sudachk/Library/Caches/pip/wheels/f7/f1/89/b9ea2bf8f80ec027a88fef1d354b3816b4d3d29530988972f6\n",
      "Successfully built fire\n",
      "Installing collected packages: Werkzeug, PySocks, itsdangerous, fire, Deprecated, blinker, mtcnn, gunicorn, Flask, gdown, retina-face, deepface\n",
      "  Attempting uninstall: Werkzeug\n",
      "    Found existing installation: Werkzeug 2.2.2\n",
      "    Uninstalling Werkzeug-2.2.2:\n",
      "      Successfully uninstalled Werkzeug-2.2.2\n",
      "Successfully installed Deprecated-1.2.14 Flask-3.0.0 PySocks-1.7.1 Werkzeug-3.0.1 blinker-1.7.0 deepface-0.0.80 fire-0.5.0 gdown-4.7.1 gunicorn-21.2.0 itsdangerous-2.1.2 mtcnn-0.1.1 retina-face-0.0.13\n"
     ]
    }
   ],
   "source": [
    "#deep face model\n",
    "%pip install deepface\n",
    "\n"
   ]
  },
  {
   "cell_type": "code",
   "execution_count": 16,
   "metadata": {},
   "outputs": [
    {
     "name": "stdout",
     "output_type": "stream",
     "text": [
      "Are these faces the same person?  True\n",
      "Facial recognition result: {'verified': True, 'distance': 0.20667349278322178, 'threshold': 0.4, 'model': 'VGG-Face', 'detector_backend': 'opencv', 'similarity_metric': 'cosine', 'facial_areas': {'img1': {'x': 74, 'y': 50, 'w': 713, 'h': 713}, 'img2': {'x': 63, 'y': 8, 'w': 386, 'h': 386}}, 'time': 0.48}\n"
     ]
    }
   ],
   "source": [
    "\n",
    "from deepface import DeepFace\n",
    "import cv2\n",
    "\n",
    "# Load a sample image\n",
    "img_path1 = '<your_path>/datasets/Ch8/data/pic1.jpeg'\n",
    "img_path2 = '<your_path>/datasets/Ch8/data/pic2.jpeg'\n",
    "img = cv2.imread(img_path)\n",
    "\n",
    "# Perform facial recognition\n",
    "result = DeepFace.verify(img1_path=img_path1, img2_path=img_path2)\n",
    "\n",
    "# Display the result\n",
    "print(\"Are these faces the same person? \", result[\"verified\"])\n",
    "\n",
    "# Additional information\n",
    "print(\"Facial recognition result:\", result)\n"
   ]
  },
  {
   "cell_type": "code",
   "execution_count": 4,
   "metadata": {},
   "outputs": [],
   "source": [
    "import cv2\n",
    "from deepface import DeepFace\n",
    "\n",
    "# Load the pre-trained face recognition model\n",
    "model = DeepFace.build_model(\"Facenet\")\n",
    "\n",
    "# Open a video capture object\n",
    "cap = cv2.VideoCapture('<your_path>/datasets/Ch8/kmeans/kmeans_input/kmeans/kmeans_input/snow.mp4')  # Replace 'your_video.mp4' with the path to your video file\n",
    "\n",
    "while True:\n",
    "    # Read a frame from the video\n",
    "    ret, frame = cap.read()\n",
    "    if not ret:\n",
    "        break\n",
    "\n",
    "    # Perform face recognition on the frame\n",
    "    result = DeepFace.verify(frame,'<your_path>/datasets/Ch8/kmeans/kmeans_output/Cluster_0/video_frame_100.png', model_name=\"Facenet\", enforce_detection=False)\n",
    "\n",
    "    # Display the result on the frame\n",
    "    if result[\"verified\"]:\n",
    "        cv2.putText(frame, \"Verified\", (50, 50), cv2.FONT_HERSHEY_SIMPLEX, 1, (0, 255, 0), 2, cv2.LINE_AA)\n",
    "    else:\n",
    "        cv2.putText(frame, \"Not Verified\", (50, 50), cv2.FONT_HERSHEY_SIMPLEX, 1, (0, 0, 255), 2, cv2.LINE_AA)\n",
    "\n",
    "    # Display the frame\n",
    "    cv2.imshow('Face Recognition', frame)\n",
    "\n",
    "    # Break the loop on 'Esc' key\n",
    "    if cv2.waitKey(30) & 0xFF == 27:\n",
    "        break\n",
    "\n",
    "# Release the video capture object and close the OpenCV window\n",
    "cap.release()\n",
    "cv2.destroyAllWindows()\n"
   ]
  }
 ],
 "metadata": {
  "kernelspec": {
   "display_name": "Python 3",
   "language": "python",
   "name": "python3"
  },
  "language_info": {
   "codemirror_mode": {
    "name": "ipython",
    "version": 3
   },
   "file_extension": ".py",
   "mimetype": "text/x-python",
   "name": "python",
   "nbconvert_exporter": "python",
   "pygments_lexer": "ipython3",
   "version": "3.9.6"
  }
 },
 "nbformat": 4,
 "nbformat_minor": 2
}
