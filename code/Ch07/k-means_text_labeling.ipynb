{
 "cells": [
  {
   "cell_type": "code",
   "execution_count": 6,
   "metadata": {},
   "outputs": [
    {
     "name": "stderr",
     "output_type": "stream",
     "text": [
      "[nltk_data] Downloading package movie_reviews to\n",
      "[nltk_data]     /Users/sudachk/nltk_data...\n",
      "[nltk_data]   Unzipping corpora/movie_reviews.zip.\n",
      "[nltk_data] Downloading package stopwords to\n",
      "[nltk_data]     /Users/sudachk/nltk_data...\n",
      "[nltk_data]   Package stopwords is already up-to-date!\n",
      "[nltk_data] Downloading package wordnet to /Users/sudachk/nltk_data...\n",
      "[nltk_data]   Package wordnet is already up-to-date!\n"
     ]
    },
    {
     "name": "stdout",
     "output_type": "stream",
     "text": [
      "Sentence: loved movie good amazing movie seen year\n",
      "Label: positive\n",
      "\n",
      "Sentence: movie terrible plot non existent acting subpar\n",
      "Label: neutral\n",
      "\n",
      "Sentence: mixed feeling movie partly good partly good\n",
      "Label: neutral\n",
      "\n"
     ]
    }
   ],
   "source": [
    "from sklearn.feature_extraction.text import TfidfVectorizer\n",
    "from sklearn.cluster import KMeans\n",
    "from nltk.corpus import movie_reviews\n",
    "from nltk.corpus import stopwords\n",
    "from nltk.stem import WordNetLemmatizer\n",
    "import nltk\n",
    "import re\n",
    "\n",
    "# Download the necessary NLTK data\n",
    "nltk.download('movie_reviews')\n",
    "nltk.download('stopwords')\n",
    "nltk.download('wordnet')\n",
    "\n",
    "# Get the reviews\n",
    "reviews = [movie_reviews.raw(fileid) for fileid in movie_reviews.fileids()]\n",
    "\n",
    "# Preprocess the text\n",
    "stop_words = set(stopwords.words('english'))\n",
    "lemmatizer = WordNetLemmatizer()\n",
    "reviews = [' '.join(lemmatizer.lemmatize(word) for word in re.sub('[^a-zA-Z]', ' ', review).lower().split() if word not in stop_words) for review in reviews]\n",
    "\n",
    "# Create a TF-IDF vectorizer\n",
    "vectorizer = TfidfVectorizer()\n",
    "\n",
    "# Transform the reviews into TF-IDF features\n",
    "X_tfidf = vectorizer.fit_transform(reviews)\n",
    "\n",
    "# Cluster the reviews using K-means\n",
    "kmeans = KMeans(n_clusters=3).fit(X_tfidf)\n",
    "\n",
    "# Define the labels for the clusters\n",
    "cluster_labels = {0: \"positive\", 1: \"negative\", 2: \"neutral\"}\n",
    "\n",
    "# Test the classifier with custom sentences\n",
    "custom_sentences = [\"I loved the movie and good and amazing movie I have seen this year.\", \n",
    "                    \"The movie was terrible. The plot was non-existent and the acting was subpar.\", \n",
    "                    \"I have mixed feelings about the movie.it is partly good and partly not good.\"]\n",
    "\n",
    "for sentence in custom_sentences:\n",
    "    # Preprocess the sentence\n",
    "    sentence = ' '.join(lemmatizer.lemmatize(word) for word in re.sub('[^a-zA-Z]', ' ', sentence).lower().split() if word not in stop_words)\n",
    "    \n",
    "    # Transform the sentence into TF-IDF features\n",
    "    features = vectorizer.transform([sentence])\n",
    "    \n",
    "    # Predict the cluster of the sentence\n",
    "    cluster = kmeans.predict(features)\n",
    "    \n",
    "    # Get the label for the cluster\n",
    "    label = cluster_labels[cluster[0]]\n",
    "    \n",
    "    print(f\"Sentence: {sentence}\\nLabel: {label}\\n\")"
   ]
  }
 ],
 "metadata": {
  "kernelspec": {
   "display_name": "Python 3",
   "language": "python",
   "name": "python3"
  },
  "language_info": {
   "codemirror_mode": {
    "name": "ipython",
    "version": 3
   },
   "file_extension": ".py",
   "mimetype": "text/x-python",
   "name": "python",
   "nbconvert_exporter": "python",
   "pygments_lexer": "ipython3",
   "version": "3.9.6"
  }
 },
 "nbformat": 4,
 "nbformat_minor": 2
}
