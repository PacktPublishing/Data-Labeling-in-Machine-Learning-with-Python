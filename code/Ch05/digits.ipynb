{
 "cells": [
  {
   "cell_type": "code",
   "execution_count": 2,
   "metadata": {},
   "outputs": [],
   "source": [
    "from snorkel.labeling import labeling_function\n",
    "\n",
    "@labeling_function()\n",
    "\n",
    "def has_digit(image, digit): \n",
    " \n",
    "\n",
    "    # Returns 1 if image has the specified digit, otherwise returns -1 \n",
    " \n",
    "\n",
    "    # Use a digit classification model to classify the digit in the image \n",
    " \n",
    "\n",
    "    model = keras.models.load_model('msnist_model.h5') \n",
    " \n",
    "\n",
    "    image_resized = cv2.resize(image, (28, 28), interpolation=cv2.INTER_AREA) \n",
    " \n",
    "\n",
    "    image_norm = image_resized / 255.0 \n",
    " \n",
    "\n",
    "    pred = model.predict(image_norm.reshape(1, 28, 28, 1)) \n",
    " \n",
    "\n",
    "    if pred.argmax() == digit: \n",
    " \n",
    "\n",
    "        return 1 \n",
    " \n",
    "    else: \n",
    " \n",
    "        return -1 \n",
    " \n",
    "\n",
    " \n",
    " \n",
    "\n"
   ]
  }
 ],
 "metadata": {
  "kernelspec": {
   "display_name": "Python 3",
   "language": "python",
   "name": "python3"
  },
  "language_info": {
   "codemirror_mode": {
    "name": "ipython",
    "version": 3
   },
   "file_extension": ".py",
   "mimetype": "text/x-python",
   "name": "python",
   "nbconvert_exporter": "python",
   "pygments_lexer": "ipython3",
   "version": "3.9.6"
  },
  "orig_nbformat": 4
 },
 "nbformat": 4,
 "nbformat_minor": 2
}
