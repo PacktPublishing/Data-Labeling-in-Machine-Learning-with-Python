{
 "cells": [
  {
   "cell_type": "markdown",
   "metadata": {},
   "source": [
    "Using K-means clustering to label the hosuing price data for regression "
   ]
  },
  {
   "cell_type": "code",
   "execution_count": 29,
   "metadata": {},
   "outputs": [
    {
     "name": "stdout",
     "output_type": "stream",
     "text": [
      "unlabelled_clusters\n",
      "cluster_mask\n",
      "labelled_labels[cluster_mask]\n",
      "cluster_mask\n",
      "labelled_labels[cluster_mask]\n",
      "Predicted Prices for Unlabelled Data: [358500.]\n"
     ]
    }
   ],
   "source": [
    "import numpy as np\n",
    "from sklearn.cluster import KMeans\n",
    "from sklearn.metrics import mean_squared_error\n",
    "\n",
    "# Define labelled and unlabelled data\n",
    "labelled_data = np.array([\n",
    "    [-122.23, 37.88, 41.0, 880.0, 129.0, 322.0, 126.0, 8.3252, 452600.0],\n",
    "    [-122.22, 37.86, 21.0, 7099.0, 1106.0, 2401.0, 1138.0, 8.3014, 358500.0]\n",
    "])\n",
    "\n",
    "unlabelled_data = np.array([\n",
    "    [-122.22, 47.86, 20.0, 7099.0, 1106.0, 2401.0, 1138.0, 8.3014, 0.0]\n",
    "])\n",
    "\n",
    "# Extract features and labels from labelled data\n",
    "labelled_features = labelled_data[:, :-1]\n",
    "labelled_features\n",
    "labelled_labels = labelled_data[:, -1]\n",
    "labelled_labels\n",
    "\n",
    "# Train K-means clustering model\n",
    "n_clusters = 2  # Number of clusters (you can adjust this)\n",
    "kmeans_model = KMeans(n_clusters=n_clusters)\n",
    "kmeans_model.fit(labelled_features)\n",
    "\n",
    "# Predict cluster labels for unlabelled data\n",
    "unlabelled_clusters = kmeans_model.predict(unlabelled_data[:, :-1])\n",
    "print(\"unlabelled_clusters\")\n",
    "unlabelled_clusters\n",
    "\n",
    "# Calculate average prices for each cluster\n",
    "cluster_avg_prices = []\n",
    "for cluster_idx in range(n_clusters):\n",
    "    cluster_mask = (kmeans_model.labels_ == cluster_idx)\n",
    "    print(\"cluster_mask\")\n",
    "    cluster_mask\n",
    "    print(\"labelled_labels[cluster_mask]\")\n",
    "    labelled_labels[cluster_mask]\n",
    "    cluster_avg_price = np.mean(labelled_labels[cluster_mask])\n",
    "    cluster_avg_prices.append(cluster_avg_price)\n",
    "\n",
    "# Assign predicted prices to unlabelled data\n",
    "predicted_prices = np.array([cluster_avg_prices[cluster] for cluster in unlabelled_clusters])\n",
    "\n",
    "print(\"Predicted Prices for Unlabelled Data:\", predicted_prices)\n"
   ]
  },
  {
   "cell_type": "code",
   "execution_count": 7,
   "metadata": {},
   "outputs": [
    {
     "name": "stdout",
     "output_type": "stream",
     "text": [
      "[[-122.23     37.88     41.      880.      129.      322.      126.\n",
      "     8.3252]\n",
      " [-122.22     37.86     21.     7099.     1106.     2401.     1138.\n",
      "     8.3014]]\n",
      "[452600. 358500.]\n"
     ]
    }
   ],
   "source": [
    "import numpy as np\n",
    "from sklearn.cluster import KMeans\n",
    "from sklearn.metrics import mean_squared_error\n",
    "\n",
    "# Define labelled and unlabelled data\n",
    "labelled_data = np.array([\n",
    "    [-122.23, 37.88, 41.0, 880.0, 129.0, 322.0, 126.0, 8.3252, 452600.0],\n",
    "    [-122.22, 37.86, 21.0, 7099.0, 1106.0, 2401.0, 1138.0, 8.3014, 358500.0]\n",
    "])\n",
    "\n",
    "unlabelled_data = np.array([\n",
    "    [-122.22, 47.86, 20.0, 7099.0, 1106.0, 2401.0, 1138.0, 8.3014, 0.0]\n",
    "])\n",
    "\n",
    "# Extract features and labels from labelled data\n",
    "labelled_features = labelled_data[:, :-1]\n",
    "print(labelled_features)\n",
    "labelled_labels = labelled_data[:, -1]\n",
    "print(labelled_labels)"
   ]
  },
  {
   "cell_type": "code",
   "execution_count": 34,
   "metadata": {},
   "outputs": [
    {
     "data": {
      "text/plain": [
       "array([452600.])"
      ]
     },
     "execution_count": 34,
     "metadata": {},
     "output_type": "execute_result"
    }
   ],
   "source": [
    "labelled_labels[[True,False]]"
   ]
  },
  {
   "cell_type": "code",
   "execution_count": 8,
   "metadata": {},
   "outputs": [
    {
     "data": {
      "text/html": [
       "<style>#sk-container-id-1 {color: black;background-color: white;}#sk-container-id-1 pre{padding: 0;}#sk-container-id-1 div.sk-toggleable {background-color: white;}#sk-container-id-1 label.sk-toggleable__label {cursor: pointer;display: block;width: 100%;margin-bottom: 0;padding: 0.3em;box-sizing: border-box;text-align: center;}#sk-container-id-1 label.sk-toggleable__label-arrow:before {content: \"▸\";float: left;margin-right: 0.25em;color: #696969;}#sk-container-id-1 label.sk-toggleable__label-arrow:hover:before {color: black;}#sk-container-id-1 div.sk-estimator:hover label.sk-toggleable__label-arrow:before {color: black;}#sk-container-id-1 div.sk-toggleable__content {max-height: 0;max-width: 0;overflow: hidden;text-align: left;background-color: #f0f8ff;}#sk-container-id-1 div.sk-toggleable__content pre {margin: 0.2em;color: black;border-radius: 0.25em;background-color: #f0f8ff;}#sk-container-id-1 input.sk-toggleable__control:checked~div.sk-toggleable__content {max-height: 200px;max-width: 100%;overflow: auto;}#sk-container-id-1 input.sk-toggleable__control:checked~label.sk-toggleable__label-arrow:before {content: \"▾\";}#sk-container-id-1 div.sk-estimator input.sk-toggleable__control:checked~label.sk-toggleable__label {background-color: #d4ebff;}#sk-container-id-1 div.sk-label input.sk-toggleable__control:checked~label.sk-toggleable__label {background-color: #d4ebff;}#sk-container-id-1 input.sk-hidden--visually {border: 0;clip: rect(1px 1px 1px 1px);clip: rect(1px, 1px, 1px, 1px);height: 1px;margin: -1px;overflow: hidden;padding: 0;position: absolute;width: 1px;}#sk-container-id-1 div.sk-estimator {font-family: monospace;background-color: #f0f8ff;border: 1px dotted black;border-radius: 0.25em;box-sizing: border-box;margin-bottom: 0.5em;}#sk-container-id-1 div.sk-estimator:hover {background-color: #d4ebff;}#sk-container-id-1 div.sk-parallel-item::after {content: \"\";width: 100%;border-bottom: 1px solid gray;flex-grow: 1;}#sk-container-id-1 div.sk-label:hover label.sk-toggleable__label {background-color: #d4ebff;}#sk-container-id-1 div.sk-serial::before {content: \"\";position: absolute;border-left: 1px solid gray;box-sizing: border-box;top: 0;bottom: 0;left: 50%;z-index: 0;}#sk-container-id-1 div.sk-serial {display: flex;flex-direction: column;align-items: center;background-color: white;padding-right: 0.2em;padding-left: 0.2em;position: relative;}#sk-container-id-1 div.sk-item {position: relative;z-index: 1;}#sk-container-id-1 div.sk-parallel {display: flex;align-items: stretch;justify-content: center;background-color: white;position: relative;}#sk-container-id-1 div.sk-item::before, #sk-container-id-1 div.sk-parallel-item::before {content: \"\";position: absolute;border-left: 1px solid gray;box-sizing: border-box;top: 0;bottom: 0;left: 50%;z-index: -1;}#sk-container-id-1 div.sk-parallel-item {display: flex;flex-direction: column;z-index: 1;position: relative;background-color: white;}#sk-container-id-1 div.sk-parallel-item:first-child::after {align-self: flex-end;width: 50%;}#sk-container-id-1 div.sk-parallel-item:last-child::after {align-self: flex-start;width: 50%;}#sk-container-id-1 div.sk-parallel-item:only-child::after {width: 0;}#sk-container-id-1 div.sk-dashed-wrapped {border: 1px dashed gray;margin: 0 0.4em 0.5em 0.4em;box-sizing: border-box;padding-bottom: 0.4em;background-color: white;}#sk-container-id-1 div.sk-label label {font-family: monospace;font-weight: bold;display: inline-block;line-height: 1.2em;}#sk-container-id-1 div.sk-label-container {text-align: center;}#sk-container-id-1 div.sk-container {/* jupyter's `normalize.less` sets `[hidden] { display: none; }` but bootstrap.min.css set `[hidden] { display: none !important; }` so we also need the `!important` here to be able to override the default hidden behavior on the sphinx rendered scikit-learn.org. See: https://github.com/scikit-learn/scikit-learn/issues/21755 */display: inline-block !important;position: relative;}#sk-container-id-1 div.sk-text-repr-fallback {display: none;}</style><div id=\"sk-container-id-1\" class=\"sk-top-container\"><div class=\"sk-text-repr-fallback\"><pre>KMeans(n_clusters=2)</pre><b>In a Jupyter environment, please rerun this cell to show the HTML representation or trust the notebook. <br />On GitHub, the HTML representation is unable to render, please try loading this page with nbviewer.org.</b></div><div class=\"sk-container\" hidden><div class=\"sk-item\"><div class=\"sk-estimator sk-toggleable\"><input class=\"sk-toggleable__control sk-hidden--visually\" id=\"sk-estimator-id-1\" type=\"checkbox\" checked><label for=\"sk-estimator-id-1\" class=\"sk-toggleable__label sk-toggleable__label-arrow\">KMeans</label><div class=\"sk-toggleable__content\"><pre>KMeans(n_clusters=2)</pre></div></div></div></div></div>"
      ],
      "text/plain": [
       "KMeans(n_clusters=2)"
      ]
     },
     "execution_count": 8,
     "metadata": {},
     "output_type": "execute_result"
    }
   ],
   "source": [
    "\n",
    "# Train K-means clustering model\n",
    "n_clusters = 2  # Number of clusters (you can adjust this)\n",
    "kmeans_model = KMeans(n_clusters=n_clusters)\n",
    "kmeans_model.fit(labelled_features)\n"
   ]
  },
  {
   "cell_type": "code",
   "execution_count": 10,
   "metadata": {},
   "outputs": [
    {
     "name": "stdout",
     "output_type": "stream",
     "text": [
      "[1]\n"
     ]
    },
    {
     "data": {
      "text/plain": [
       "array([1], dtype=int32)"
      ]
     },
     "execution_count": 10,
     "metadata": {},
     "output_type": "execute_result"
    }
   ],
   "source": [
    "\n",
    "# Predict cluster labels for unlabelled data\n",
    "unlabelled_clusters = kmeans_model.predict(unlabelled_data[:, :-1])\n",
    "print(unlabelled_clusters)\n",
    "unlabelled_clusters"
   ]
  },
  {
   "cell_type": "code",
   "execution_count": 30,
   "metadata": {},
   "outputs": [
    {
     "name": "stdout",
     "output_type": "stream",
     "text": [
      "step1 0\n",
      "step2 [0 1]\n",
      "step3 [ True False]\n",
      "step4 [452600. 358500.]\n",
      "step5 [452600.]\n",
      "452600.0\n",
      "[452600.0]\n",
      "step1 1\n",
      "step2 [0 1]\n",
      "step3 [False  True]\n",
      "step4 [452600. 358500.]\n",
      "step5 [358500.]\n",
      "358500.0\n",
      "[452600.0, 358500.0]\n"
     ]
    }
   ],
   "source": [
    "\n",
    "# Calculate average prices for each cluster\n",
    "cluster_avg_prices = []\n",
    "for cluster_idx in range(n_clusters):\n",
    "    print(\"step1\",cluster_idx)\n",
    "    print(\"step2\",kmeans_model.labels_)\n",
    "    cluster_mask = (kmeans_model.labels_ == cluster_idx)\n",
    "    print(\"step3\",cluster_mask)\n",
    "   # cluster_mask\n",
    "    print(\"step4\",labelled_labels)\n",
    "    print(\"step5\",labelled_labels[cluster_mask])\n",
    "   # labelled_labels[cluster_mask]\n",
    "    cluster_avg_price = np.mean(labelled_labels[cluster_mask])\n",
    "    print(cluster_avg_price)\n",
    "    cluster_avg_prices.append(cluster_avg_price)\n",
    "    print(cluster_avg_prices)\n"
   ]
  }
 ],
 "metadata": {
  "kernelspec": {
   "display_name": "Python 3",
   "language": "python",
   "name": "python3"
  },
  "language_info": {
   "codemirror_mode": {
    "name": "ipython",
    "version": 3
   },
   "file_extension": ".py",
   "mimetype": "text/x-python",
   "name": "python",
   "nbconvert_exporter": "python",
   "pygments_lexer": "ipython3",
   "version": "3.9.6"
  },
  "orig_nbformat": 4
 },
 "nbformat": 4,
 "nbformat_minor": 2
}
