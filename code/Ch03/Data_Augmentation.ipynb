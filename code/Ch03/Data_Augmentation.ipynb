{
 "cells": [
  {
   "cell_type": "markdown",
   "metadata": {},
   "source": [
    "Using data augmentation to generate synthetic data for regression. "
   ]
  },
  {
   "cell_type": "code",
   "execution_count": 1,
   "metadata": {},
   "outputs": [
    {
     "name": "stdout",
     "output_type": "stream",
     "text": [
      "[[ 7.90835288e-03  2.56802739e-04  5.13257713e-02  1.33600229e+02\n",
      "   1.57190899e+02 -1.33804423e+02 -1.05215961e+02  5.54259915e-04\n",
      "  -1.13768556e+04]\n",
      " [ 3.96040682e-03  3.69832812e-03 -9.38710820e-03  1.49755079e+02\n",
      "   9.85445057e+01 -4.70132677e+00  6.30889131e+01 -6.65138551e-04\n",
      "   4.20301147e+03]]\n",
      "Original Data:\n",
      " [[-1.2223e+02  3.7880e+01  4.1000e+01  8.8000e+02  1.2900e+02  3.2200e+02\n",
      "   1.2600e+02  8.3252e+00  4.5260e+05]\n",
      " [-1.2222e+02  3.7860e+01  2.1000e+01  7.0990e+03  1.1060e+03  2.4010e+03\n",
      "   1.1380e+03  8.3014e+00  3.5850e+05]]\n",
      "\n",
      "Augmented Data:\n",
      " [[-1.22222092e+02  3.78802568e+01  4.10513258e+01  1.01360023e+03\n",
      "   2.86190899e+02  1.88195577e+02  2.07840388e+01  8.32575426e+00\n",
      "   4.41223144e+05]\n",
      " [-1.22216040e+02  3.78636983e+01  2.09906129e+01  7.24875508e+03\n",
      "   1.20454451e+03  2.39629867e+03  1.20108891e+03  8.30073486e+00\n",
      "   3.62703011e+05]]\n"
     ]
    }
   ],
   "source": [
    "import numpy as np\n",
    "\n",
    "def add_noise_to_data(data, std_devs):\n",
    "    noise = np.random.normal(0, std_devs, data.shape)\n",
    "    print(noise)\n",
    "    return data + noise\n",
    "\n",
    "# Example usage\n",
    "original_data = np.array([\n",
    "    [-122.23, 37.88, 41.0, 880.0, 129.0, 322.0, 126.0, 8.3252, 452600.0],\n",
    "    [-122.22, 37.86, 21.0, 7099.0, 1106.0, 2401.0, 1138.0, 8.3014, 358500.0]\n",
    "])\n",
    "\n",
    "# Assuming std_deviation values for each feature and label as a fraction of their range\n",
    "std_devs = np.array([0.01, 0.01, 0.1, 200.0, 100.0, 200.0, 100.0, 0.001, 10000.0])\n",
    "\n",
    "augmented_data = add_noise_to_data(original_data, std_devs)\n",
    "print(\"Original Data:\\n\", original_data)\n",
    "print(\"\\nAugmented Data:\\n\", augmented_data)\n"
   ]
  },
  {
   "cell_type": "code",
   "execution_count": 5,
   "metadata": {},
   "outputs": [],
   "source": [
    "import pandas as pd\n",
    "augmented_data = [] \n",
    "\n",
    "scale_range = [0.5, 0.75, 1.25, 1.5] \n",
    "\n",
    "# Load the available labeled data \n",
    "\n",
    "df = pd.read_csv(\"housing_training.csv\") \n",
    "\n",
    "for _, row in df.iterrows(): \n",
    "   for scale_factor in scale_range: \n",
    "\n",
    "        new_row = row.copy() \n",
    "\n",
    "        new_row[\"median_house_value\"] = row[\"median_house_value\"] * scale_factor\n",
    "\n",
    "        augmented_data.append(new_row) \n"
   ]
  },
  {
   "cell_type": "code",
   "execution_count": 6,
   "metadata": {},
   "outputs": [
    {
     "data": {
      "text/plain": [
       "[longitude               -122.2300\n",
       " latitude                  37.8800\n",
       " housing_median_age        41.0000\n",
       " total_rooms              880.0000\n",
       " total_bedrooms           129.0000\n",
       " population               322.0000\n",
       " households               126.0000\n",
       " median_income              8.3252\n",
       " median_house_value    226300.0000\n",
       " Name: 0, dtype: float64,\n",
       " longitude               -122.2300\n",
       " latitude                  37.8800\n",
       " housing_median_age        41.0000\n",
       " total_rooms              880.0000\n",
       " total_bedrooms           129.0000\n",
       " population               322.0000\n",
       " households               126.0000\n",
       " median_income              8.3252\n",
       " median_house_value    339450.0000\n",
       " Name: 0, dtype: float64,\n",
       " longitude               -122.2300\n",
       " latitude                  37.8800\n",
       " housing_median_age        41.0000\n",
       " total_rooms              880.0000\n",
       " total_bedrooms           129.0000\n",
       " population               322.0000\n",
       " households               126.0000\n",
       " median_income              8.3252\n",
       " median_house_value    565750.0000\n",
       " Name: 0, dtype: float64,\n",
       " longitude               -122.2300\n",
       " latitude                  37.8800\n",
       " housing_median_age        41.0000\n",
       " total_rooms              880.0000\n",
       " total_bedrooms           129.0000\n",
       " population               322.0000\n",
       " households               126.0000\n",
       " median_income              8.3252\n",
       " median_house_value    678900.0000\n",
       " Name: 0, dtype: float64,\n",
       " longitude               -122.2200\n",
       " latitude                  37.8600\n",
       " housing_median_age        21.0000\n",
       " total_rooms             7099.0000\n",
       " total_bedrooms          1106.0000\n",
       " population              2401.0000\n",
       " households              1138.0000\n",
       " median_income              8.3014\n",
       " median_house_value    179250.0000\n",
       " Name: 1, dtype: float64,\n",
       " longitude               -122.2200\n",
       " latitude                  37.8600\n",
       " housing_median_age        21.0000\n",
       " total_rooms             7099.0000\n",
       " total_bedrooms          1106.0000\n",
       " population              2401.0000\n",
       " households              1138.0000\n",
       " median_income              8.3014\n",
       " median_house_value    268875.0000\n",
       " Name: 1, dtype: float64,\n",
       " longitude               -122.2200\n",
       " latitude                  37.8600\n",
       " housing_median_age        21.0000\n",
       " total_rooms             7099.0000\n",
       " total_bedrooms          1106.0000\n",
       " population              2401.0000\n",
       " households              1138.0000\n",
       " median_income              8.3014\n",
       " median_house_value    448125.0000\n",
       " Name: 1, dtype: float64,\n",
       " longitude               -122.2200\n",
       " latitude                  37.8600\n",
       " housing_median_age        21.0000\n",
       " total_rooms             7099.0000\n",
       " total_bedrooms          1106.0000\n",
       " population              2401.0000\n",
       " households              1138.0000\n",
       " median_income              8.3014\n",
       " median_house_value    537750.0000\n",
       " Name: 1, dtype: float64]"
      ]
     },
     "execution_count": 6,
     "metadata": {},
     "output_type": "execute_result"
    }
   ],
   "source": [
    "augmented_data"
   ]
  }
 ],
 "metadata": {
  "kernelspec": {
   "display_name": "Python 3",
   "language": "python",
   "name": "python3"
  },
  "language_info": {
   "codemirror_mode": {
    "name": "ipython",
    "version": 3
   },
   "file_extension": ".py",
   "mimetype": "text/x-python",
   "name": "python",
   "nbconvert_exporter": "python",
   "pygments_lexer": "ipython3",
   "version": "3.9.6"
  },
  "orig_nbformat": 4
 },
 "nbformat": 4,
 "nbformat_minor": 2
}
