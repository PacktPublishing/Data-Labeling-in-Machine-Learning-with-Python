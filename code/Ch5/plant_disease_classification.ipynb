{
 "cells": [
  {
   "cell_type": "code",
   "execution_count": 3,
   "metadata": {},
   "outputs": [
    {
     "data": {
      "text/html": [
       "<div>\n",
       "<style scoped>\n",
       "    .dataframe tbody tr th:only-of-type {\n",
       "        vertical-align: middle;\n",
       "    }\n",
       "\n",
       "    .dataframe tbody tr th {\n",
       "        vertical-align: top;\n",
       "    }\n",
       "\n",
       "    .dataframe thead th {\n",
       "        text-align: right;\n",
       "    }\n",
       "</style>\n",
       "<table border=\"1\" class=\"dataframe\">\n",
       "  <thead>\n",
       "    <tr style=\"text-align: right;\">\n",
       "      <th></th>\n",
       "      <th>image_path</th>\n",
       "      <th>black_pixel_percentage</th>\n",
       "    </tr>\n",
       "  </thead>\n",
       "  <tbody>\n",
       "    <tr>\n",
       "      <th>0</th>\n",
       "      <td>/Users/sudachk/PacktPublishing/DataLabelling/c...</td>\n",
       "      <td>9.25</td>\n",
       "    </tr>\n",
       "    <tr>\n",
       "      <th>1</th>\n",
       "      <td>/Users/sudachk/PacktPublishing/DataLabelling/c...</td>\n",
       "      <td>81.12</td>\n",
       "    </tr>\n",
       "    <tr>\n",
       "      <th>2</th>\n",
       "      <td>/Users/sudachk/PacktPublishing/DataLabelling/c...</td>\n",
       "      <td>39.25</td>\n",
       "    </tr>\n",
       "    <tr>\n",
       "      <th>3</th>\n",
       "      <td>/Users/sudachk/PacktPublishing/DataLabelling/c...</td>\n",
       "      <td>91.18</td>\n",
       "    </tr>\n",
       "    <tr>\n",
       "      <th>4</th>\n",
       "      <td>/Users/sudachk/PacktPublishing/DataLabelling/c...</td>\n",
       "      <td>86.42</td>\n",
       "    </tr>\n",
       "  </tbody>\n",
       "</table>\n",
       "</div>"
      ],
      "text/plain": [
       "                                          image_path  black_pixel_percentage\n",
       "0  /Users/sudachk/PacktPublishing/DataLabelling/c...                    9.25\n",
       "1  /Users/sudachk/PacktPublishing/DataLabelling/c...                   81.12\n",
       "2  /Users/sudachk/PacktPublishing/DataLabelling/c...                   39.25\n",
       "3  /Users/sudachk/PacktPublishing/DataLabelling/c...                   91.18\n",
       "4  /Users/sudachk/PacktPublishing/DataLabelling/c...                   86.42"
      ]
     },
     "execution_count": 3,
     "metadata": {},
     "output_type": "execute_result"
    }
   ],
   "source": [
    "import os \n",
    "import cv2\n",
    "import pandas as pd\n",
    "from snorkel.labeling import PandasLFApplier, labeling_function\n",
    "from skimage.io import imread\n",
    "\n",
    "# Define the path to your image directory\n",
    "image_dir = \"/Users/sudachk/PacktPublishing/DataLabelling/ch05/Images\"\n",
    "\n",
    "# Initialize a list to store image paths and aspect ratios\n",
    "image_data = []\n",
    "\n",
    "# Iterate through the image files in the directory\n",
    "for image_file in os.listdir(image_dir):\n",
    "    # Check if the file has the format \".jpg\" (or adjust to your image format)\n",
    "    if image_file.endswith(\".jpeg\"):\n",
    "        image_path = os.path.join(image_dir, image_file)\n",
    "        image = imread(image_path, as_gray=False)\n",
    "        # Define the desired width and height for resizing\n",
    "        desired_width = 100\n",
    "        desired_height = 100\n",
    "        # Resize the image to the desired width and height\n",
    "        resized_image = cv2.resize(image, (desired_width, desired_height))\n",
    "        # Convert the image to grayscale\n",
    "        gray_image = cv2.cvtColor(resized_image, cv2.COLOR_BGR2GRAY)    \n",
    "        # Apply thresholding to detect regions with discoloration\n",
    "        _, binary_image = cv2.threshold(gray_image, 150, 255, cv2.THRESH_BINARY_INV)   \n",
    "        # Calculate the percentage of black pixels (discoloration) in the image\n",
    "        white_pixel_percentage = (cv2.countNonZero(binary_image) / binary_image.size) * 100\n",
    "        black_pixel_percentage = 100 - white_pixel_percentage\n",
    "        image_data.append((image_path, black_pixel_percentage))\n",
    "\n",
    "# Create a DataFrame with image paths and aspect ratios\n",
    "df_unlabeled = pd.DataFrame(image_data, columns=[\"image_path\", \"black_pixel_percentage\"]) \n",
    "df_unlabeled\n",
    "\n",
    "\n",
    "# # Define a labeling function to classify images as \"Healthy\"\n",
    "# @labeling_function()\n",
    "# def is_healthy(record):\n",
    "\n",
    "#     # Define a threshold for discoloration (adjust as needed)\n",
    "#     threshold = 3.0\n",
    "    \n",
    "#     # Classify as \"Healthy\" if the percentage of discoloration is below the threshold\n",
    "#     if record['black_pixel_percentage'] < threshold:\n",
    "#         return 1  # Label as \"Healthy\"\n",
    "#     else:\n",
    "#         return 0  # Label as \"Diseased\"  \n",
    "\n",
    "# # Apply the image processing labeling function to your data\n",
    "# L = snorkel.labeling.PandasLFApplier(is_healthy).apply(df=df_unlabeled) \n",
    "      \n"
   ]
  },
  {
   "cell_type": "code",
   "execution_count": 4,
   "metadata": {},
   "outputs": [
    {
     "data": {
      "text/plain": [
       "'/Users/sudachk/PacktPublishing/DataLabelling/ch05/Images/OIG (1).jpeg'"
      ]
     },
     "execution_count": 4,
     "metadata": {},
     "output_type": "execute_result"
    }
   ],
   "source": [
    "df_unlabeled['image_path'].iloc[0]"
   ]
  },
  {
   "cell_type": "code",
   "execution_count": 7,
   "metadata": {},
   "outputs": [],
   "source": [
    "\n",
    "# Define a labeling function to classify images as \"Healthy\"\n",
    "@labeling_function()\n",
    "def is_healthy(record):\n",
    "\n",
    "    # Define a threshold for discoloration (adjust as needed)\n",
    "    threshold = 10\n",
    "    \n",
    "    # Classify as \"Healthy\" if the percentage of discoloration is below the threshold\n",
    "    if record['black_pixel_percentage'] < threshold:\n",
    "        return 1  # Label as \"Healthy\"\n",
    "    else:\n",
    "        return 0  # Label as \"Diseased\"  \n"
   ]
  },
  {
   "cell_type": "code",
   "execution_count": 8,
   "metadata": {},
   "outputs": [],
   "source": [
    "from snorkel.labeling import labeling_function\n",
    "from snorkel.labeling import PandasLFApplier\n"
   ]
  },
  {
   "cell_type": "code",
   "execution_count": 9,
   "metadata": {},
   "outputs": [
    {
     "name": "stderr",
     "output_type": "stream",
     "text": [
      "100%|██████████| 5/5 [00:00<00:00, 1519.68it/s]"
     ]
    },
    {
     "name": "stdout",
     "output_type": "stream",
     "text": [
      "[[1]\n",
      " [0]\n",
      " [0]\n",
      " [0]\n",
      " [0]]\n"
     ]
    },
    {
     "name": "stderr",
     "output_type": "stream",
     "text": [
      "\n"
     ]
    }
   ],
   "source": [
    "\n",
    "\n",
    "# Apply the labeling function is_healthy to your image data\n",
    "lfs = [is_healthy]\n",
    "applier = PandasLFApplier(lfs=lfs)\n",
    "L_train = applier.apply(df=df_unlabeled)\n",
    "\n",
    "# Display the generated labels (L_train)\n",
    "print(L_train)\n"
   ]
  },
  {
   "cell_type": "code",
   "execution_count": 7,
   "metadata": {},
   "outputs": [],
   "source": []
  }
 ],
 "metadata": {
  "kernelspec": {
   "display_name": "Python 3",
   "language": "python",
   "name": "python3"
  },
  "language_info": {
   "codemirror_mode": {
    "name": "ipython",
    "version": 3
   },
   "file_extension": ".py",
   "mimetype": "text/x-python",
   "name": "python",
   "nbconvert_exporter": "python",
   "pygments_lexer": "ipython3",
   "version": "3.9.6"
  },
  "orig_nbformat": 4
 },
 "nbformat": 4,
 "nbformat_minor": 2
}
