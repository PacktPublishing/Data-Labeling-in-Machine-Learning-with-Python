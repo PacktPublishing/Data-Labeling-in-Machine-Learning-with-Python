{
 "cells": [
  {
   "cell_type": "code",
   "execution_count": 2,
   "metadata": {},
   "outputs": [
    {
     "name": "stdout",
     "output_type": "stream",
     "text": [
      "The contour height of the first image is 618 pixels.\n",
      "The contour height of the second image is 663 pixels.\n"
     ]
    }
   ],
   "source": [
    "# Import the necessary libraries\n",
    "import cv2\n",
    "import numpy as np\n",
    "\n",
    "# Define a function to find the contour height of an object using the Canny edge detector\n",
    "def canny_contour_height(image):\n",
    "  # Convert the image to grayscale\n",
    "  gray = cv2.cvtColor(image, cv2.COLOR_BGR2GRAY)\n",
    "  # Apply the Canny edge detector with low and high threshold values\n",
    "  edges = cv2.Canny(gray, 100, 200)\n",
    "  # Find the contours of the edges\n",
    "  contours, _ = cv2.findContours(edges, cv2.RETR_EXTERNAL, cv2.CHAIN_APPROX_SIMPLE)\n",
    "  # Initialize the maximum height as zero\n",
    "  max_height = 0\n",
    "  # Loop through each contour\n",
    "  for cnt in contours:\n",
    "    # Find the bounding rectangle of the contour\n",
    "    x, y, w, h = cv2.boundingRect(cnt)\n",
    "    # Update the maximum height if the current height is larger\n",
    "    if h > max_height:\n",
    "      max_height = h\n",
    "  # Return the maximum height\n",
    "  return max_height\n",
    "\n",
    "# Load the first image of a bicycle with 100 pixels height\n",
    "image1 = cv2.imread(\"/Users/sudachk/PacktPublishing/DataLabelling/ch05/Images/bike.jpeg\")\n",
    "# Load the second image of a person riding a bicycle where the bicycle has 100 pixels height and the person sitting on the bicycle is extra height\n",
    "image2 = cv2.imread(\"/Users/sudachk/PacktPublishing/DataLabelling/ch05/Images/bike_person.jpeg\")\n",
    "# Measure the contour height of both images using the function\n",
    "# Find the contour height of both images using the function\n",
    "height1 = canny_contour_height(image1)\n",
    "height2 = canny_contour_height(image2)\n",
    "# Print the results\n",
    "print(f\"The contour height of the first image is {height1} pixels.\")\n",
    "print(f\"The contour height of the second image is {height2} pixels.\")\n"
   ]
  },
  {
   "cell_type": "markdown",
   "metadata": {},
   "source": [
    "<!-- The first line applies the Canny edge detector with low and high threshold values. The Canny edge detector is an algorithm that detects the edges in an image by finding the regions where the pixel intensity changes sharply. The low and high threshold values are used to filter out the weak edges and keep only the strong ones. The lower the threshold values, the more edges will be detected, and vice versa. In this case, the low threshold value is 100 and the high threshold value is 200, which means that only the edges with pixel intensity gradient above 200 will be kept, and those between 100 and 200 will be kept only if they are connected to a strong edge. The result is a binary image where the edges are white and the rest are black. This image is stored in the variable edges.\n",
    "The second line finds the contours of the edges. A contour is a curve that joins all the continuous points along an edge. Finding the contours of an image can help to identify and analyze the shapes of the objects in the image. The function cv2.findContours takes three arguments: the source image, the contour retrieval mode, and the contour approximation method. The source image is edges, which is the binary image obtained from the Canny edge detector. The contour retrieval mode is cv2.RETR_EXTERNAL, which means that only the external contours of the objects will be retrieved, and any internal contours (such as holes) will be ignored. The contour approximation method is cv2.CHAIN_APPROX_SIMPLE, which means that only the end points of each contour segment will be stored, and any redundant points will be removed. This can save memory and improve performance. The function returns two values: a list of contours, and a hierarchy of contours. The list of contours is stored in the variable contours, and each contour is a numpy array of (x, y) coordinates of the boundary points of the object. The hierarchy of contours is not used in this case, so it is ignored by using an underscore (_) as a placeholder.\n",
    "The third line initializes the maximum height as zero. This is done to prepare for finding the maximum height of all the contours in the image. The maximum height is stored in the variable max_height, which will be updated later in a loop. -->"
   ]
  },
  {
   "cell_type": "code",
   "execution_count": null,
   "metadata": {},
   "outputs": [],
   "source": []
  }
 ],
 "metadata": {
  "kernelspec": {
   "display_name": "Python 3",
   "language": "python",
   "name": "python3"
  },
  "language_info": {
   "codemirror_mode": {
    "name": "ipython",
    "version": 3
   },
   "file_extension": ".py",
   "mimetype": "text/x-python",
   "name": "python",
   "nbconvert_exporter": "python",
   "pygments_lexer": "ipython3",
   "version": "3.9.6"
  },
  "orig_nbformat": 4
 },
 "nbformat": 4,
 "nbformat_minor": 2
}
