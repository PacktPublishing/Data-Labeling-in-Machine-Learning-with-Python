{
 "cells": [
  {
   "cell_type": "code",
   "execution_count": 1,
   "metadata": {},
   "outputs": [
    {
     "name": "stdout",
     "output_type": "stream",
     "text": [
      "Original dataset shape: (50000, 32, 32, 3)\n",
      "Augmented dataset shape: (300000, 32, 32, 3)\n"
     ]
    }
   ],
   "source": [
    "#generating augmented data with same labels of training data\n",
    "import tensorflow as tf\n",
    "from tensorflow.keras.datasets import cifar10\n",
    "from tensorflow.keras.preprocessing.image import ImageDataGenerator\n",
    "import numpy as np\n",
    "\n",
    "# Load the CIFAR-10 dataset\n",
    "(x_train, y_train), (_, _) = cifar10.load_data()\n",
    "\n",
    "# Initialize the ImageDataGenerator for data augmentation\n",
    "datagen = ImageDataGenerator(\n",
    "    rotation_range=40,      # Random rotation in the range [-40, 40] degrees\n",
    "    width_shift_range=0.2,  # Random horizontal shift by up to 20% of the image width\n",
    "    height_shift_range=0.2, # Random vertical shift by up to 20% of the image height\n",
    "    shear_range=0.2,        # Shear intensity (shear angle in radians)\n",
    "    zoom_range=0.2,         # Random zoom (up to 20%)\n",
    "    horizontal_flip=True,   # Randomly flip images horizontally\n",
    "    fill_mode='nearest'     # Fill in newly created pixels after transformations\n",
    ")\n",
    "\n",
    "# Define the number of augmented samples you want per original image\n",
    "augmented_samples_per_image = 5\n",
    "\n",
    "# Initialize an empty list to store augmented data and labels\n",
    "augmented_x = []\n",
    "augmented_y = []\n",
    "\n",
    "# Perform data augmentation for each original image\n",
    "for i in range(len(x_train)):\n",
    "    image = x_train[i]\n",
    "    label = y_train[i]\n",
    "    \n",
    "    # Expand dimensions to match the batch size required by datagen\n",
    "    image = np.expand_dims(image, axis=0)\n",
    "    \n",
    "    # Generate augmented images\n",
    "    augmented_images = datagen.flow(image, batch_size=1)\n",
    "    \n",
    "    # Store the augmented images and labels\n",
    "    for j in range(augmented_samples_per_image):\n",
    "        augmented_image = next(augmented_images)[0]\n",
    "        augmented_x.append(augmented_image)\n",
    "        augmented_y.append(label)\n",
    "\n",
    "# Concatenate the augmented data with the original data\n",
    "x_train_augmented = np.concatenate((x_train, np.array(augmented_x)))\n",
    "y_train_augmented = np.concatenate((y_train, np.array(augmented_y)))\n",
    "\n",
    "# Now you have an augmented dataset with the same labels\n",
    "print(f\"Original dataset shape: {x_train.shape}\")\n",
    "print(f\"Augmented dataset shape: {x_train_augmented.shape}\")\n"
   ]
  }
 ],
 "metadata": {
  "kernelspec": {
   "display_name": "Python 3",
   "language": "python",
   "name": "python3"
  },
  "language_info": {
   "codemirror_mode": {
    "name": "ipython",
    "version": 3
   },
   "file_extension": ".py",
   "mimetype": "text/x-python",
   "name": "python",
   "nbconvert_exporter": "python",
   "pygments_lexer": "ipython3",
   "version": "3.9.6"
  },
  "orig_nbformat": 4
 },
 "nbformat": 4,
 "nbformat_minor": 2
}
