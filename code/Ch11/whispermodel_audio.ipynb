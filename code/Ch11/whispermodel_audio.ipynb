{
 "cells": [
  {
   "cell_type": "code",
   "execution_count": 3,
   "metadata": {},
   "outputs": [
    {
     "name": "stdout",
     "output_type": "stream",
     "text": [
      "Defaulting to user installation because normal site-packages is not writeable\n",
      "Collecting pytube\n",
      "  Downloading pytube-15.0.0-py3-none-any.whl (57 kB)\n",
      "\u001b[K     |████████████████████████████████| 57 kB 2.1 MB/s eta 0:00:011\n",
      "\u001b[?25hInstalling collected packages: pytube\n",
      "Successfully installed pytube-15.0.0\n",
      "\u001b[33mWARNING: You are using pip version 21.2.4; however, version 23.3.1 is available.\n",
      "You should consider upgrading via the '/Library/Developer/CommandLineTools/usr/bin/python3 -m pip install --upgrade pip' command.\u001b[0m\n",
      "Note: you may need to restart the kernel to use updated packages.\n"
     ]
    }
   ],
   "source": [
    "%pip install pytube"
   ]
  },
  {
   "cell_type": "code",
   "execution_count": 6,
   "metadata": {},
   "outputs": [
    {
     "data": {
      "text/plain": [
       "'/Users/sudachk/PacktPublishing/DataLabelling/ch09/Mel Spectrograms with Python and Librosa  Audio Feature Extraction.mp4'"
      ]
     },
     "execution_count": 6,
     "metadata": {},
     "output_type": "execute_result"
    }
   ],
   "source": [
    "#we are importing Pytube library\n",
    "import pytube\n",
    "#we are downloading youtube video from Youtube link\n",
    "video = \"https://youtu.be/g8Q452PEXwY\"\n",
    "data = pytube.YouTube(video)\n",
    "# Converting and downloading as 'MP4' file\n",
    "audio = data.streams.get_audio_only()\n",
    "audio.download()"
   ]
  },
  {
   "cell_type": "code",
   "execution_count": 8,
   "metadata": {},
   "outputs": [
    {
     "name": "stdout",
     "output_type": "stream",
     "text": [
      "Defaulting to user installation because normal site-packages is not writeable\n",
      "Collecting openai-whisper\n",
      "  Downloading openai-whisper-20231117.tar.gz (798 kB)\n",
      "\u001b[K     |████████████████████████████████| 798 kB 2.3 MB/s eta 0:00:01\n",
      "\u001b[?25h\u001b[33m  WARNING: Value for prefixed-purelib does not match. Please report this to <https://github.com/pypa/pip/issues/10151>\n",
      "  distutils: /private/var/folders/kk/t2ggpzfs6js1m3mr05dhk9800000gn/T/pip-build-env-a9n_8gqn/normal/lib/python3.9/site-packages\n",
      "  sysconfig: /Library/Python/3.9/site-packages\u001b[0m\n",
      "\u001b[33m  WARNING: Value for prefixed-platlib does not match. Please report this to <https://github.com/pypa/pip/issues/10151>\n",
      "  distutils: /private/var/folders/kk/t2ggpzfs6js1m3mr05dhk9800000gn/T/pip-build-env-a9n_8gqn/normal/lib/python3.9/site-packages\n",
      "  sysconfig: /Library/Python/3.9/site-packages\u001b[0m\n",
      "\u001b[33m  WARNING: Additional context:\n",
      "  user = False\n",
      "  home = None\n",
      "  root = None\n",
      "  prefix = '/private/var/folders/kk/t2ggpzfs6js1m3mr05dhk9800000gn/T/pip-build-env-a9n_8gqn/normal'\u001b[0m\n",
      "\u001b[33m  WARNING: Value for prefixed-purelib does not match. Please report this to <https://github.com/pypa/pip/issues/10151>\n",
      "  distutils: /private/var/folders/kk/t2ggpzfs6js1m3mr05dhk9800000gn/T/pip-build-env-a9n_8gqn/overlay/lib/python3.9/site-packages\n",
      "  sysconfig: /Library/Python/3.9/site-packages\u001b[0m\n",
      "\u001b[33m  WARNING: Value for prefixed-platlib does not match. Please report this to <https://github.com/pypa/pip/issues/10151>\n",
      "  distutils: /private/var/folders/kk/t2ggpzfs6js1m3mr05dhk9800000gn/T/pip-build-env-a9n_8gqn/overlay/lib/python3.9/site-packages\n",
      "  sysconfig: /Library/Python/3.9/site-packages\u001b[0m\n",
      "\u001b[33m  WARNING: Additional context:\n",
      "  user = False\n",
      "  home = None\n",
      "  root = None\n",
      "  prefix = '/private/var/folders/kk/t2ggpzfs6js1m3mr05dhk9800000gn/T/pip-build-env-a9n_8gqn/overlay'\u001b[0m\n",
      "  Installing build dependencies ... \u001b[?25ldone\n",
      "\u001b[?25h  Getting requirements to build wheel ... \u001b[?25ldone\n",
      "\u001b[?25h    Preparing wheel metadata ... \u001b[?25ldone\n",
      "\u001b[?25hRequirement already satisfied: tqdm in /Users/sudachk/Library/Python/3.9/lib/python/site-packages (from openai-whisper) (4.64.1)\n",
      "Collecting more-itertools\n",
      "  Downloading more_itertools-10.1.0-py3-none-any.whl (55 kB)\n",
      "\u001b[K     |████████████████████████████████| 55 kB 1.3 MB/s eta 0:00:01\n",
      "\u001b[?25hRequirement already satisfied: numba in /Users/sudachk/Library/Python/3.9/lib/python/site-packages (from openai-whisper) (0.58.1)\n",
      "Collecting tiktoken\n",
      "  Downloading tiktoken-0.5.1-cp39-cp39-macosx_11_0_arm64.whl (925 kB)\n",
      "\u001b[K     |████████████████████████████████| 925 kB 52.7 MB/s eta 0:00:01\n",
      "\u001b[?25hRequirement already satisfied: numpy in /Users/sudachk/Library/Python/3.9/lib/python/site-packages (from openai-whisper) (1.24.3)\n",
      "Requirement already satisfied: torch in /Users/sudachk/Library/Python/3.9/lib/python/site-packages (from openai-whisper) (2.1.1)\n",
      "Requirement already satisfied: llvmlite<0.42,>=0.41.0dev0 in /Users/sudachk/Library/Python/3.9/lib/python/site-packages (from numba->openai-whisper) (0.41.1)\n",
      "Requirement already satisfied: regex>=2022.1.18 in /Users/sudachk/Library/Python/3.9/lib/python/site-packages (from tiktoken->openai-whisper) (2023.10.3)\n",
      "Requirement already satisfied: requests>=2.26.0 in /Users/sudachk/Library/Python/3.9/lib/python/site-packages (from tiktoken->openai-whisper) (2.31.0)\n",
      "Requirement already satisfied: idna<4,>=2.5 in /Users/sudachk/Library/Python/3.9/lib/python/site-packages (from requests>=2.26.0->tiktoken->openai-whisper) (3.4)\n",
      "Requirement already satisfied: urllib3<3,>=1.21.1 in /Users/sudachk/Library/Python/3.9/lib/python/site-packages (from requests>=2.26.0->tiktoken->openai-whisper) (1.26.17)\n",
      "Requirement already satisfied: charset-normalizer<4,>=2 in /Users/sudachk/Library/Python/3.9/lib/python/site-packages (from requests>=2.26.0->tiktoken->openai-whisper) (2.1.1)\n",
      "Requirement already satisfied: certifi>=2017.4.17 in /Users/sudachk/Library/Python/3.9/lib/python/site-packages (from requests>=2.26.0->tiktoken->openai-whisper) (2022.9.24)\n",
      "Requirement already satisfied: sympy in /Users/sudachk/Library/Python/3.9/lib/python/site-packages (from torch->openai-whisper) (1.12)\n",
      "Requirement already satisfied: fsspec in /Users/sudachk/Library/Python/3.9/lib/python/site-packages (from torch->openai-whisper) (2023.10.0)\n",
      "Requirement already satisfied: filelock in /Users/sudachk/Library/Python/3.9/lib/python/site-packages (from torch->openai-whisper) (3.12.4)\n",
      "Requirement already satisfied: typing-extensions in /Users/sudachk/Library/Python/3.9/lib/python/site-packages (from torch->openai-whisper) (4.8.0)\n",
      "Requirement already satisfied: jinja2 in /Users/sudachk/Library/Python/3.9/lib/python/site-packages (from torch->openai-whisper) (3.1.2)\n",
      "Requirement already satisfied: networkx in /Users/sudachk/Library/Python/3.9/lib/python/site-packages (from torch->openai-whisper) (2.8.8)\n",
      "Requirement already satisfied: MarkupSafe>=2.0 in /Users/sudachk/Library/Python/3.9/lib/python/site-packages (from jinja2->torch->openai-whisper) (2.1.1)\n",
      "Requirement already satisfied: mpmath>=0.19 in /Users/sudachk/Library/Python/3.9/lib/python/site-packages (from sympy->torch->openai-whisper) (1.3.0)\n",
      "Building wheels for collected packages: openai-whisper\n",
      "  Building wheel for openai-whisper (PEP 517) ... \u001b[?25ldone\n",
      "\u001b[?25h  Created wheel for openai-whisper: filename=openai_whisper-20231117-py3-none-any.whl size=801359 sha256=7a2ec593fd35f538808d60e7db937cdd92648b3ddef51414974421253307bb12\n",
      "  Stored in directory: /Users/sudachk/Library/Caches/pip/wheels/f5/77/96/4bb7b94449a47b726127100ad66bd72cba123fb4d0a8948473\n",
      "Successfully built openai-whisper\n",
      "Installing collected packages: tiktoken, more-itertools, openai-whisper\n",
      "Successfully installed more-itertools-10.1.0 openai-whisper-20231117 tiktoken-0.5.1\n",
      "\u001b[33mWARNING: You are using pip version 21.2.4; however, version 23.3.1 is available.\n",
      "You should consider upgrading via the '/Library/Developer/CommandLineTools/usr/bin/python3 -m pip install --upgrade pip' command.\u001b[0m\n",
      "Note: you may need to restart the kernel to use updated packages.\n"
     ]
    }
   ],
   "source": [
    "#install openai whisper\n",
    "%pip install openai-whisper"
   ]
  },
  {
   "cell_type": "code",
   "execution_count": 1,
   "metadata": {},
   "outputs": [],
   "source": [
    "\n",
    "import whisper\n",
    "import os"
   ]
  },
  {
   "cell_type": "code",
   "execution_count": 4,
   "metadata": {},
   "outputs": [],
   "source": [
    "# Set the FFMPEG environment variable to the path of your ffmpeg executable\n",
    "os.environ['ffmpeg'] = '/Users/sudachk/audio-orchestrator-ffmpeg/bin/'\n"
   ]
  },
  {
   "cell_type": "code",
   "execution_count": 5,
   "metadata": {},
   "outputs": [],
   "source": [
    "os.environ['PATH'] = '/Users/sudachk/audio-orchestrator-ffmpeg/bin:' + os.environ['PATH']\n"
   ]
  },
  {
   "cell_type": "code",
   "execution_count": 6,
   "metadata": {},
   "outputs": [
    {
     "name": "stderr",
     "output_type": "stream",
     "text": [
      "/Users/sudachk/Library/Python/3.9/lib/python/site-packages/whisper/transcribe.py:115: UserWarning: FP16 is not supported on CPU; using FP32 instead\n",
      "  warnings.warn(\"FP16 is not supported on CPU; using FP32 instead\")\n"
     ]
    },
    {
     "data": {
      "text/plain": [
       "\" Hello, in this video we'll go over an important audio feature to extract, called Mel Spectrums, and how we can extract Mel Spectrums using Python and Librosa. Let's get started. Firstly, audio feature extraction is a crucial step in machine learning, converting raw audio data into a structured format suitable for model training and analysis. Raw audio data is complex and contains vast amount of information. Each extraction reduces the dimensionality, emphasizing relevant patterns for machine learning models. The Mel Spectrum, a visual representation of frequency content over time, is a powerful feature. And in this video we'll understand how we can leverage a Mel scale to approximate the human ears response to different frequencies, making it particularly valuable for tasks involving human perception. A Mel Spectrum transforms the linear frequency scale of a traditional spectrogram into a logarithmic scale. Now let's implement audio feature extraction using Mel Spectrums and Python and Librosa. Firstly, let's import all the necessary libraries, including Librosa for audio processing, Mod Plotlib for the plotting, and NumPy for numerical operations, will also import ipython.display to be able to hear our audio file. Next, let's store the audio file path into a variable, and then let's hear our audio file. As you may know, that is the F major scale. And now let's get the Y, which is the audio time series data, and also the SR, which is the sampling rate of the time series data. So we can do that using a simple function in Librosa, called Librosa.load, given an audio file path. And there's other arguments we can pass in, like the NFFTs, number of samples, in each of the short-forare transforms it does, and normally it defaults to 2048, so that's good in our case. And we can also change the hotplanned number of males, and even the frequency min and maximum. We'll keep those for the default from now. And after this, let's actually extract the Mel Spectrum. Librosa makes this easy through a function called Librosa.feature.mel Spectrum. And here we just input the signals we have. So we'll take the Y that we got from Librosa.load, and also the sampling rate from Librosa.load. And now let's run this. Next we'll convert the linear scale spectrogram to decibels, and all we have to do is input our Mel Spectrum that we have extracted, and provide a reference power to use when we're converting to decimals. And in this case, we'll use numpy.max. After this, all we have to do is plot the Mel Spectrum using Librosa.display.specshow, and we'll also use mapplot.pyplot. So there's other things we can do, including adjusting the figure size, the axis, the color map, etc. And let's run this again. And as we can see, this is the Mel Spectrum again. So this is a visual representation of the audio having the frequency over time. As you can see, it's a pretty simple and quick process to extract a Mel Spectrum. So it can be a very powerful tool when training a machine learning model on audio data. Hope that was helpful, and see you in the next video.\""
      ]
     },
     "execution_count": 6,
     "metadata": {},
     "output_type": "execute_result"
    }
   ],
   "source": [
    "model = whisper.load_model('base')\n",
    "text = model.transcribe('Mel Spectrograms with Python and Librosa  Audio Feature Extraction.mp4')\n",
    "#printing the transcribe\n",
    "text['text']"
   ]
  },
  {
   "cell_type": "code",
   "execution_count": 7,
   "metadata": {},
   "outputs": [
    {
     "name": "stdout",
     "output_type": "stream",
     "text": [
      "Defaulting to user installation because normal site-packages is not writeable\n",
      "Collecting transformers\n",
      "  Downloading transformers-4.35.2-py3-none-any.whl (7.9 MB)\n",
      "\u001b[K     |████████████████████████████████| 7.9 MB 842 kB/s eta 0:00:01\n",
      "\u001b[?25hRequirement already satisfied: packaging>=20.0 in /Users/sudachk/Library/Python/3.9/lib/python/site-packages (from transformers) (21.3)\n",
      "Requirement already satisfied: numpy>=1.17 in /Users/sudachk/Library/Python/3.9/lib/python/site-packages (from transformers) (1.24.3)\n",
      "Collecting huggingface-hub<1.0,>=0.16.4\n",
      "  Downloading huggingface_hub-0.19.4-py3-none-any.whl (311 kB)\n",
      "\u001b[K     |████████████████████████████████| 311 kB 27.0 MB/s eta 0:00:01\n",
      "\u001b[?25hRequirement already satisfied: filelock in /Users/sudachk/Library/Python/3.9/lib/python/site-packages (from transformers) (3.12.4)\n",
      "Requirement already satisfied: requests in /Users/sudachk/Library/Python/3.9/lib/python/site-packages (from transformers) (2.31.0)\n",
      "Collecting safetensors>=0.3.1\n",
      "  Downloading safetensors-0.4.0-cp39-cp39-macosx_11_0_arm64.whl (425 kB)\n",
      "\u001b[K     |████████████████████████████████| 425 kB 16.9 MB/s eta 0:00:01\n",
      "\u001b[?25hRequirement already satisfied: regex!=2019.12.17 in /Users/sudachk/Library/Python/3.9/lib/python/site-packages (from transformers) (2023.10.3)\n",
      "Requirement already satisfied: tqdm>=4.27 in /Users/sudachk/Library/Python/3.9/lib/python/site-packages (from transformers) (4.64.1)\n",
      "Collecting tokenizers<0.19,>=0.14\n",
      "  Downloading tokenizers-0.15.0-cp39-cp39-macosx_11_0_arm64.whl (2.5 MB)\n",
      "\u001b[K     |████████████████████████████████| 2.5 MB 36.8 MB/s eta 0:00:01\n",
      "\u001b[?25hRequirement already satisfied: pyyaml>=5.1 in /Users/sudachk/Library/Python/3.9/lib/python/site-packages (from transformers) (6.0)\n",
      "Requirement already satisfied: fsspec>=2023.5.0 in /Users/sudachk/Library/Python/3.9/lib/python/site-packages (from huggingface-hub<1.0,>=0.16.4->transformers) (2023.10.0)\n",
      "Requirement already satisfied: typing-extensions>=3.7.4.3 in /Users/sudachk/Library/Python/3.9/lib/python/site-packages (from huggingface-hub<1.0,>=0.16.4->transformers) (4.8.0)\n",
      "Requirement already satisfied: pyparsing!=3.0.5,>=2.0.2 in /Users/sudachk/Library/Python/3.9/lib/python/site-packages (from packaging>=20.0->transformers) (3.0.9)\n",
      "Requirement already satisfied: urllib3<3,>=1.21.1 in /Users/sudachk/Library/Python/3.9/lib/python/site-packages (from requests->transformers) (1.26.17)\n",
      "Requirement already satisfied: certifi>=2017.4.17 in /Users/sudachk/Library/Python/3.9/lib/python/site-packages (from requests->transformers) (2022.9.24)\n",
      "Requirement already satisfied: idna<4,>=2.5 in /Users/sudachk/Library/Python/3.9/lib/python/site-packages (from requests->transformers) (3.4)\n",
      "Requirement already satisfied: charset-normalizer<4,>=2 in /Users/sudachk/Library/Python/3.9/lib/python/site-packages (from requests->transformers) (2.1.1)\n",
      "Installing collected packages: huggingface-hub, tokenizers, safetensors, transformers\n",
      "Successfully installed huggingface-hub-0.19.4 safetensors-0.4.0 tokenizers-0.15.0 transformers-4.35.2\n",
      "\u001b[33mWARNING: You are using pip version 21.2.4; however, version 23.3.1 is available.\n",
      "You should consider upgrading via the '/Library/Developer/CommandLineTools/usr/bin/python3 -m pip install --upgrade pip' command.\u001b[0m\n",
      "Note: you may need to restart the kernel to use updated packages.\n"
     ]
    }
   ],
   "source": [
    "%pip install transformers"
   ]
  },
  {
   "cell_type": "code",
   "execution_count": 13,
   "metadata": {},
   "outputs": [
    {
     "name": "stderr",
     "output_type": "stream",
     "text": [
      "No model was supplied, defaulted to distilbert-base-uncased-finetuned-sst-2-english and revision af0f99b (https://huggingface.co/distilbert-base-uncased-finetuned-sst-2-english).\n",
      "Using a pipeline without specifying a model name and revision in production is not recommended.\n"
     ]
    },
    {
     "name": "stdout",
     "output_type": "stream",
     "text": [
      "[{'label': 'NEGATIVE', 'score': 0.9992625117301941}]\n"
     ]
    }
   ],
   "source": [
    "from transformers import pipeline\n",
    "\n",
    "# Load the sentiment analysis pipeline\n",
    "sentiment_classifier = pipeline('sentiment-analysis')\n",
    "\n",
    "# Example text for sentiment analysis\n",
    "#text = \"I love using Hugging Face Transformers! It's amazing.\"\n",
    "text=\"Hello, I have not received the product yet. I am very disappointed.are you going to replace if my product is damaged or missed.I will be happy if you replace with new product incase i missed the product die to incorrect shipping address\"\n",
    "\n",
    "# Perform sentiment analysis\n",
    "result = sentiment_classifier(text)\n",
    "\n",
    "# Display the result\n",
    "print(result)\n"
   ]
  },
  {
   "cell_type": "code",
   "execution_count": 16,
   "metadata": {},
   "outputs": [
    {
     "name": "stderr",
     "output_type": "stream",
     "text": [
      "huggingface/tokenizers: The current process just got forked, after parallelism has already been used. Disabling parallelism to avoid deadlocks...\n",
      "To disable this warning, you can either:\n",
      "\t- Avoid using `tokenizers` before the fork if possible\n",
      "\t- Explicitly set the environment variable TOKENIZERS_PARALLELISM=(true | false)\n"
     ]
    },
    {
     "name": "stdout",
     "output_type": "stream",
     "text": [
      "Defaulting to user installation because normal site-packages is not writeable\n",
      "Requirement already satisfied: joblib in /Users/sudachk/Library/Python/3.9/lib/python/site-packages (1.2.0)\n",
      "\u001b[33mWARNING: You are using pip version 21.2.4; however, version 23.3.1 is available.\n",
      "You should consider upgrading via the '/Library/Developer/CommandLineTools/usr/bin/python3 -m pip install --upgrade pip' command.\u001b[0m\n",
      "Note: you may need to restart the kernel to use updated packages.\n"
     ]
    }
   ],
   "source": [
    "%pip install joblib"
   ]
  },
  {
   "cell_type": "code",
   "execution_count": 19,
   "metadata": {},
   "outputs": [
    {
     "name": "stdout",
     "output_type": "stream",
     "text": [
      "Accuracy: 0.83\n",
      "              precision    recall  f1-score   support\n",
      "\n",
      "           0       0.82      0.85      0.83      2482\n",
      "           1       0.84      0.82      0.83      2518\n",
      "\n",
      "    accuracy                           0.83      5000\n",
      "   macro avg       0.83      0.83      0.83      5000\n",
      "weighted avg       0.83      0.83      0.83      5000\n",
      "\n",
      "Negative Sentiment\n"
     ]
    }
   ],
   "source": [
    "import numpy as np\n",
    "from sklearn.datasets import load_files\n",
    "from sklearn.model_selection import train_test_split\n",
    "from sklearn.feature_extraction.text import CountVectorizer\n",
    "from sklearn.naive_bayes import MultinomialNB\n",
    "from sklearn.metrics import accuracy_score, classification_report\n",
    "import joblib\n",
    "\n",
    "# Load the IMDb movie reviews dataset\n",
    "reviews_dataset = load_files('/Users/sudachk/Downloads/imdb_reviews/train', categories=['pos', 'neg'])\n",
    "X_train, X_test, y_train, y_test = train_test_split(reviews_dataset.data, reviews_dataset.target, test_size=0.2, random_state=42)\n",
    "\n",
    "# Convert text data to feature vectors using CountVectorizer\n",
    "vectorizer = CountVectorizer(max_features=5000)  # You can adjust the number of features\n",
    "X_train_vectors = vectorizer.fit_transform(X_train)\n",
    "X_test_vectors = vectorizer.transform(X_test)\n",
    "\n",
    "# Train a Naive Bayes classifier\n",
    "classifier = MultinomialNB()\n",
    "classifier.fit(X_train_vectors, y_train)\n",
    "\n",
    "# Save the trained model to a file\n",
    "model_filename = 'naive_bayes_sentiment_model.joblib'\n",
    "joblib.dump(classifier, model_filename)\n",
    "\n",
    "# Predict sentiment on the test set\n",
    "y_pred = classifier.predict(X_test_vectors)\n",
    "\n",
    "# Evaluate the performance\n",
    "accuracy = accuracy_score(y_test, y_pred)\n",
    "print(f'Accuracy: {accuracy:.2f}')\n",
    "\n",
    "# Display classification report\n",
    "print(classification_report(y_test, y_pred))\n",
    "\n",
    "# Load the saved model for testing on new reviews\n",
    "loaded_classifier = joblib.load(model_filename)\n",
    "\n",
    "# Example of testing on a new review\n",
    "new_review = [\"This movie was boring! The acting was superb, and the plot kept me on the edge of my seat.\"]\n",
    "new_review_vector = vectorizer.transform(new_review)\n",
    "predicted_sentiment = loaded_classifier.predict(new_review_vector)\n",
    "\n",
    "# Display the predicted sentiment\n",
    "if predicted_sentiment[0] == 1:\n",
    "    print(\"Positive Sentiment\")\n",
    "else:\n",
    "    print(\"Negative Sentiment\")\n"
   ]
  }
 ],
 "metadata": {
  "kernelspec": {
   "display_name": "Python 3",
   "language": "python",
   "name": "python3"
  },
  "language_info": {
   "codemirror_mode": {
    "name": "ipython",
    "version": 3
   },
   "file_extension": ".py",
   "mimetype": "text/x-python",
   "name": "python",
   "nbconvert_exporter": "python",
   "pygments_lexer": "ipython3",
   "version": "3.9.6"
  }
 },
 "nbformat": 4,
 "nbformat_minor": 2
}
